{
 "cells": [
  {
   "cell_type": "markdown",
   "metadata": {
    "nbpresent": {
     "id": "30e817a1-361e-41d2-acb4-02be2c24c5df"
    },
    "slideshow": {
     "slide_type": "slide"
    }
   },
   "source": [
    "# Principal Component Analysis:\n",
    "## `Understanding & Applying to Neuroscience Data`\n",
    "\n",
    "---\n",
    "`Author: Jeremy Grace`\n",
    "\n"
   ]
  },
  {
   "cell_type": "markdown",
   "metadata": {
    "nbpresent": {
     "id": "b3d4bf54-56a3-4bf4-8ab4-7b5842508955"
    },
    "slideshow": {
     "slide_type": "subslide"
    }
   },
   "source": [
    "# $$PCA :\\ Applying\\ to\\ Neuroscience\\ Data$$\n",
    "\n",
    "![brain-scan](img/fmri.byu.png)"
   ]
  },
  {
   "cell_type": "markdown",
   "metadata": {
    "nbpresent": {
     "id": "e5c83715-0b1f-4e85-9542-827eae25138b"
    },
    "slideshow": {
     "slide_type": "slide"
    }
   },
   "source": [
    "## Briefing Outline:\n",
    "\n",
    "### 1. Applying the $\\underline{Process}$\n",
    "        * Introduce the Source & Scope\n",
    "        * Load - Prep - Run\n",
    "        * Visualize & Validate\n",
    "\n",
    "### 2. Derive $\\underline{Insights}$\n",
    "        * Interpret the Results\n",
    "        * Personal Takeaways\n",
    "        * Next Steps"
   ]
  },
  {
   "cell_type": "markdown",
   "metadata": {
    "nbpresent": {
     "id": "50d2636d-b15f-472f-90f5-ec646785c7f6"
    },
    "slideshow": {
     "slide_type": "slide"
    }
   },
   "source": [
    "---\n",
    "## $$Applying\\ the\\ Process$$"
   ]
  },
  {
   "cell_type": "markdown",
   "metadata": {
    "nbpresent": {
     "id": "0a89f1ff-96a9-4cc8-a0b2-088a73e412ac"
    },
    "slideshow": {
     "slide_type": "slide"
    }
   },
   "source": [
    "## Abstract: \n",
    "### `Dataset: The Aging, Dementia and Traumatic Brain Injury Study`\n",
    "\n",
    "$\\href{http://brain-map.org/}{brain-map.org}$\n",
    "\n",
    "$\\href{http://aging.brain-map.org/overview/home}{aging.brain-map.org}$\n",
    "\n",
    "<br>\n",
    "\n",
    ">For my final project, I will be implementing the Principal component analysis (PCA) algorithm from the sklearn.decomposition module. The dataset I will be utilizing was produced from a collaborative study on Aging, Dementia, and Traumatic Brain Injury (see aging.brain-map.org, datasets on Download tab). Although my background isn't in the arena of neuroscience, the topic hits me on a personal level. My grandfather passed away as a result of Alzheimer's disease and I have always wanted to understand the illness more since there is a chance myself or another family member might fall victim to it.\n",
    "The rationale behind my choice of algorithm is primarily due to the use of Singular Value Decomposition (SVD) 'under-the-hood' to repurpose the continuous data into fewer principal components - keeping only the most significant singular vectors at a lower dimensionality. Since the study retrieved numerous quantification and metric values, an operation like PCA is ideal to reduce this data for initial insight and prep it for additional analysis (e.g. K-means Clustering )."
   ]
  },
  {
   "cell_type": "markdown",
   "metadata": {
    "nbpresent": {
     "id": "34ab0cef-eb72-4fbf-9951-b2e3b075f802"
    },
    "slideshow": {
     "slide_type": "slide"
    }
   },
   "source": [
    "# `Scope`:\n",
    "\n",
    "* **Specimen (Donor) Metadata**\n",
    "\n",
    "\n",
    "* **Protein & Pathology data**\n",
    "\n",
    "\n",
    "* _RNA-seq_"
   ]
  },
  {
   "cell_type": "markdown",
   "metadata": {
    "nbpresent": {
     "id": "956f9047-c408-42d0-b315-49f4ec25a18e"
    },
    "slideshow": {
     "slide_type": "slide"
    }
   },
   "source": [
    "---\n",
    "## `Load Clean & Data`"
   ]
  },
  {
   "cell_type": "markdown",
   "metadata": {
    "nbpresent": {
     "id": "4f51d628-cef4-40bc-a68d-294b1a5605d9"
    },
    "slideshow": {
     "slide_type": "subslide"
    }
   },
   "source": [
    "**Summary information on specimens, neuropathology, and quantification of protein and isoprostane**:\n",
    "\n",
    "* Donor Information:\n",
    "\n",
    "https://s3-us-west-2.amazonaws.com/msds-projects/data/Donor-Information.csv\n",
    "\n",
    "* Protein & Pathology Readings:\n",
    "\n",
    "https://s3-us-west-2.amazonaws.com/msds-projects/data/Protein-And-Pathology-Quantifications.csv\n",
    "\n",
    "* Description of Strains [Column Descriptions]:\n",
    "\n",
    "https://s3-us-west-2.amazonaws.com/msds-projects/data/Description-Of-Stains.csv"
   ]
  },
  {
   "cell_type": "code",
   "execution_count": 1,
   "metadata": {
    "collapsed": false,
    "nbpresent": {
     "id": "0b3137ea-1afc-41d1-a27f-e8290477a92f"
    },
    "slideshow": {
     "slide_type": "slide"
    }
   },
   "outputs": [
    {
     "name": "stdout",
     "output_type": "stream",
     "text": [
      "Populating the interactive namespace from numpy and matplotlib\n"
     ]
    }
   ],
   "source": [
    "%pylab inline\n",
    "\n",
    "import pandas as pd\n",
    "from scipy import stats\n",
    "import seaborn as sns\n",
    "from sqlalchemy import create_engine\n",
    "\n",
    "from sklearn.preprocessing import StandardScaler\n",
    "from sklearn.decomposition import PCA\n"
   ]
  },
  {
   "cell_type": "markdown",
   "metadata": {
    "nbpresent": {
     "id": "88cb868e-55cb-40b9-8c19-8813e800742f"
    },
    "slideshow": {
     "slide_type": "slide"
    }
   },
   "source": [
    "### $$ -- \\ Load\\ Data\\ -- $$"
   ]
  },
  {
   "cell_type": "code",
   "execution_count": 2,
   "metadata": {
    "collapsed": true,
    "nbpresent": {
     "id": "274a7c26-2bbc-4df5-a5a6-78a75331520d"
    }
   },
   "outputs": [],
   "source": [
    "donor_info = pd.read_csv('https://s3-us-west-2.amazonaws.com/msds-projects/data/Donor-Information.csv')\n",
    "ppq = pd.read_csv('https://s3-us-west-2.amazonaws.com/msds-projects/data/Protein-And-Pathology-Quantifications.csv')"
   ]
  },
  {
   "cell_type": "code",
   "execution_count": 3,
   "metadata": {
    "collapsed": false,
    "nbpresent": {
     "id": "dd67c088-0706-4f42-8fde-ee0310ddbfa7"
    },
    "scrolled": false
   },
   "outputs": [
    {
     "data": {
      "text/html": [
       "<div>\n",
       "<table border=\"1\" class=\"dataframe\">\n",
       "  <thead>\n",
       "    <tr style=\"text-align: right;\">\n",
       "      <th></th>\n",
       "      <th>donor_id</th>\n",
       "      <th>name</th>\n",
       "      <th>age</th>\n",
       "      <th>sex</th>\n",
       "      <th>apo_e4_allele</th>\n",
       "      <th>education_years</th>\n",
       "      <th>age_at_first_tbi</th>\n",
       "      <th>longest_loc_duration</th>\n",
       "      <th>cerad</th>\n",
       "      <th>num_tbi_w_loc</th>\n",
       "      <th>dsm_iv_clinical_diagnosis</th>\n",
       "      <th>control_set</th>\n",
       "      <th>nincds_arda_diagnosis</th>\n",
       "      <th>ever_tbi_w_loc</th>\n",
       "      <th>race</th>\n",
       "      <th>hispanic</th>\n",
       "      <th>act_demented</th>\n",
       "      <th>braak</th>\n",
       "      <th>nia_reagan</th>\n",
       "    </tr>\n",
       "  </thead>\n",
       "  <tbody>\n",
       "    <tr>\n",
       "      <th>0</th>\n",
       "      <td>326765665</td>\n",
       "      <td>H14.09.078</td>\n",
       "      <td>87</td>\n",
       "      <td>M</td>\n",
       "      <td>N</td>\n",
       "      <td>16</td>\n",
       "      <td>0</td>\n",
       "      <td>Unknown or N/A</td>\n",
       "      <td>0</td>\n",
       "      <td>0</td>\n",
       "      <td>No Dementia</td>\n",
       "      <td>31</td>\n",
       "      <td>No Dementia</td>\n",
       "      <td>N</td>\n",
       "      <td>White</td>\n",
       "      <td>Not Hispanic</td>\n",
       "      <td>No Dementia</td>\n",
       "      <td>1</td>\n",
       "      <td>1</td>\n",
       "    </tr>\n",
       "    <tr>\n",
       "      <th>1</th>\n",
       "      <td>326765656</td>\n",
       "      <td>H14.09.069</td>\n",
       "      <td>95-99</td>\n",
       "      <td>M</td>\n",
       "      <td>N</td>\n",
       "      <td>17</td>\n",
       "      <td>12</td>\n",
       "      <td>1-2 min</td>\n",
       "      <td>2</td>\n",
       "      <td>1</td>\n",
       "      <td>No Dementia</td>\n",
       "      <td>26</td>\n",
       "      <td>No Dementia</td>\n",
       "      <td>Y</td>\n",
       "      <td>White</td>\n",
       "      <td>Not Hispanic</td>\n",
       "      <td>No Dementia</td>\n",
       "      <td>5</td>\n",
       "      <td>2</td>\n",
       "    </tr>\n",
       "    <tr>\n",
       "      <th>2</th>\n",
       "      <td>326765654</td>\n",
       "      <td>H14.09.067</td>\n",
       "      <td>85</td>\n",
       "      <td>M</td>\n",
       "      <td>Y</td>\n",
       "      <td>10</td>\n",
       "      <td>72</td>\n",
       "      <td>&lt; 10 sec</td>\n",
       "      <td>3</td>\n",
       "      <td>1</td>\n",
       "      <td>Vascular</td>\n",
       "      <td>25</td>\n",
       "      <td>Dementia, Type Unknown</td>\n",
       "      <td>Y</td>\n",
       "      <td>White</td>\n",
       "      <td>Not Hispanic</td>\n",
       "      <td>Dementia</td>\n",
       "      <td>4</td>\n",
       "      <td>2</td>\n",
       "    </tr>\n",
       "    <tr>\n",
       "      <th>3</th>\n",
       "      <td>467056391</td>\n",
       "      <td>H15.09.103</td>\n",
       "      <td>90-94</td>\n",
       "      <td>F</td>\n",
       "      <td>N</td>\n",
       "      <td>11</td>\n",
       "      <td>87</td>\n",
       "      <td>&lt; 10 sec</td>\n",
       "      <td>0</td>\n",
       "      <td>1</td>\n",
       "      <td>No Dementia</td>\n",
       "      <td>52</td>\n",
       "      <td>No Dementia</td>\n",
       "      <td>Y</td>\n",
       "      <td>White</td>\n",
       "      <td>Not Hispanic</td>\n",
       "      <td>No Dementia</td>\n",
       "      <td>4</td>\n",
       "      <td>0</td>\n",
       "    </tr>\n",
       "    <tr>\n",
       "      <th>4</th>\n",
       "      <td>309335447</td>\n",
       "      <td>H14.09.010</td>\n",
       "      <td>100+</td>\n",
       "      <td>M</td>\n",
       "      <td>Y</td>\n",
       "      <td>16</td>\n",
       "      <td>0</td>\n",
       "      <td>Unknown or N/A</td>\n",
       "      <td>3</td>\n",
       "      <td>0</td>\n",
       "      <td>Alzheimer's Disease Type</td>\n",
       "      <td>28</td>\n",
       "      <td>Possible Alzheimer'S Disease</td>\n",
       "      <td>N</td>\n",
       "      <td>White</td>\n",
       "      <td>Not Hispanic</td>\n",
       "      <td>Dementia</td>\n",
       "      <td>4</td>\n",
       "      <td>2</td>\n",
       "    </tr>\n",
       "  </tbody>\n",
       "</table>\n",
       "</div>"
      ],
      "text/plain": [
       "    donor_id        name    age sex apo_e4_allele  education_years  \\\n",
       "0  326765665  H14.09.078     87   M             N               16   \n",
       "1  326765656  H14.09.069  95-99   M             N               17   \n",
       "2  326765654  H14.09.067     85   M             Y               10   \n",
       "3  467056391  H15.09.103  90-94   F             N               11   \n",
       "4  309335447  H14.09.010   100+   M             Y               16   \n",
       "\n",
       "   age_at_first_tbi longest_loc_duration  cerad  num_tbi_w_loc  \\\n",
       "0                 0       Unknown or N/A      0              0   \n",
       "1                12              1-2 min      2              1   \n",
       "2                72             < 10 sec      3              1   \n",
       "3                87             < 10 sec      0              1   \n",
       "4                 0       Unknown or N/A      3              0   \n",
       "\n",
       "  dsm_iv_clinical_diagnosis  control_set         nincds_arda_diagnosis  \\\n",
       "0               No Dementia           31                   No Dementia   \n",
       "1               No Dementia           26                   No Dementia   \n",
       "2                  Vascular           25        Dementia, Type Unknown   \n",
       "3               No Dementia           52                   No Dementia   \n",
       "4  Alzheimer's Disease Type           28  Possible Alzheimer'S Disease   \n",
       "\n",
       "  ever_tbi_w_loc   race      hispanic act_demented  braak  nia_reagan  \n",
       "0              N  White  Not Hispanic  No Dementia      1           1  \n",
       "1              Y  White  Not Hispanic  No Dementia      5           2  \n",
       "2              Y  White  Not Hispanic     Dementia      4           2  \n",
       "3              Y  White  Not Hispanic  No Dementia      4           0  \n",
       "4              N  White  Not Hispanic     Dementia      4           2  "
      ]
     },
     "execution_count": 3,
     "metadata": {},
     "output_type": "execute_result"
    }
   ],
   "source": [
    "donor_info.head()"
   ]
  },
  {
   "cell_type": "code",
   "execution_count": 4,
   "metadata": {
    "collapsed": false,
    "nbpresent": {
     "id": "3bc52cfc-3c78-47cd-a3af-acf1b7507f29"
    }
   },
   "outputs": [
    {
     "data": {
      "text/html": [
       "<div>\n",
       "<table border=\"1\" class=\"dataframe\">\n",
       "  <thead>\n",
       "    <tr style=\"text-align: right;\">\n",
       "      <th></th>\n",
       "      <th>donor_id</th>\n",
       "      <th>donor_name</th>\n",
       "      <th>structure_id</th>\n",
       "      <th>structure_acronym</th>\n",
       "      <th>ihc_a_syn</th>\n",
       "      <th>ihc_tau2_ffpe</th>\n",
       "      <th>ihc_at8_ffpe</th>\n",
       "      <th>ihc_at8</th>\n",
       "      <th>ihc_a_beta_ffpe</th>\n",
       "      <th>ihc_ptdp_43_ffpe</th>\n",
       "      <th>...</th>\n",
       "      <th>il_4_pg_per_mg</th>\n",
       "      <th>rantes_pg_per_mg</th>\n",
       "      <th>ab40_pg_per_mg</th>\n",
       "      <th>a_syn_pg_per_mg</th>\n",
       "      <th>ifn_g_pg_per_mg</th>\n",
       "      <th>mcp_1_pg_per_mg</th>\n",
       "      <th>bdnf_pg_per_mg</th>\n",
       "      <th>mip_1a_pg_per_mg</th>\n",
       "      <th>il_7_pg_per_mg</th>\n",
       "      <th>ab42_pg_per_mg</th>\n",
       "    </tr>\n",
       "  </thead>\n",
       "  <tbody>\n",
       "    <tr>\n",
       "      <th>0</th>\n",
       "      <td>467056408</td>\n",
       "      <td>H15.09.109</td>\n",
       "      <td>10294</td>\n",
       "      <td>HIP</td>\n",
       "      <td>0.003079</td>\n",
       "      <td>0.003880</td>\n",
       "      <td>0.025751</td>\n",
       "      <td>0.021730</td>\n",
       "      <td>0.007529</td>\n",
       "      <td>0.001003</td>\n",
       "      <td>...</td>\n",
       "      <td>0.00</td>\n",
       "      <td>24.38</td>\n",
       "      <td>0.151900</td>\n",
       "      <td>0.147220</td>\n",
       "      <td>3.24</td>\n",
       "      <td>0.02</td>\n",
       "      <td>3.113225</td>\n",
       "      <td>44.83</td>\n",
       "      <td>2.50</td>\n",
       "      <td>0.160250</td>\n",
       "    </tr>\n",
       "    <tr>\n",
       "      <th>1</th>\n",
       "      <td>326765657</td>\n",
       "      <td>H14.09.070</td>\n",
       "      <td>10557</td>\n",
       "      <td>FWM</td>\n",
       "      <td>0.000110</td>\n",
       "      <td>0.003159</td>\n",
       "      <td>0.001307</td>\n",
       "      <td>0.000115</td>\n",
       "      <td>0.003359</td>\n",
       "      <td>0.003090</td>\n",
       "      <td>...</td>\n",
       "      <td>0.88</td>\n",
       "      <td>11.58</td>\n",
       "      <td>0.618094</td>\n",
       "      <td>0.051980</td>\n",
       "      <td>0.64</td>\n",
       "      <td>15.26</td>\n",
       "      <td>1.920750</td>\n",
       "      <td>0.00</td>\n",
       "      <td>10.84</td>\n",
       "      <td>0.450625</td>\n",
       "    </tr>\n",
       "    <tr>\n",
       "      <th>2</th>\n",
       "      <td>326765681</td>\n",
       "      <td>H14.09.094</td>\n",
       "      <td>10235</td>\n",
       "      <td>TCx</td>\n",
       "      <td>0.000465</td>\n",
       "      <td>0.001343</td>\n",
       "      <td>0.003324</td>\n",
       "      <td>0.000036</td>\n",
       "      <td>0.011338</td>\n",
       "      <td>0.001297</td>\n",
       "      <td>...</td>\n",
       "      <td>2.68</td>\n",
       "      <td>10.04</td>\n",
       "      <td>1.429312</td>\n",
       "      <td>0.020000</td>\n",
       "      <td>0.60</td>\n",
       "      <td>52.94</td>\n",
       "      <td>0.020000</td>\n",
       "      <td>11.90</td>\n",
       "      <td>12.86</td>\n",
       "      <td>286.210125</td>\n",
       "    </tr>\n",
       "    <tr>\n",
       "      <th>3</th>\n",
       "      <td>326765667</td>\n",
       "      <td>H14.09.080</td>\n",
       "      <td>10235</td>\n",
       "      <td>TCx</td>\n",
       "      <td>0.000056</td>\n",
       "      <td>0.001691</td>\n",
       "      <td>0.017386</td>\n",
       "      <td>0.000048</td>\n",
       "      <td>0.003371</td>\n",
       "      <td>0.001614</td>\n",
       "      <td>...</td>\n",
       "      <td>0.00</td>\n",
       "      <td>82.18</td>\n",
       "      <td>0.218400</td>\n",
       "      <td>0.080000</td>\n",
       "      <td>0.66</td>\n",
       "      <td>10.14</td>\n",
       "      <td>0.080000</td>\n",
       "      <td>12.54</td>\n",
       "      <td>17.10</td>\n",
       "      <td>0.160875</td>\n",
       "    </tr>\n",
       "    <tr>\n",
       "      <th>4</th>\n",
       "      <td>309335488</td>\n",
       "      <td>H14.09.051</td>\n",
       "      <td>10557</td>\n",
       "      <td>FWM</td>\n",
       "      <td>0.000162</td>\n",
       "      <td>0.001303</td>\n",
       "      <td>0.001567</td>\n",
       "      <td>0.000079</td>\n",
       "      <td>0.003648</td>\n",
       "      <td>0.000757</td>\n",
       "      <td>...</td>\n",
       "      <td>0.52</td>\n",
       "      <td>11.76</td>\n",
       "      <td>0.307125</td>\n",
       "      <td>0.095635</td>\n",
       "      <td>0.00</td>\n",
       "      <td>28.28</td>\n",
       "      <td>3.146120</td>\n",
       "      <td>6.00</td>\n",
       "      <td>36.26</td>\n",
       "      <td>0.650025</td>\n",
       "    </tr>\n",
       "  </tbody>\n",
       "</table>\n",
       "<p>5 rows × 33 columns</p>\n",
       "</div>"
      ],
      "text/plain": [
       "    donor_id  donor_name  structure_id structure_acronym  ihc_a_syn  \\\n",
       "0  467056408  H15.09.109         10294               HIP   0.003079   \n",
       "1  326765657  H14.09.070         10557               FWM   0.000110   \n",
       "2  326765681  H14.09.094         10235               TCx   0.000465   \n",
       "3  326765667  H14.09.080         10235               TCx   0.000056   \n",
       "4  309335488  H14.09.051         10557               FWM   0.000162   \n",
       "\n",
       "   ihc_tau2_ffpe  ihc_at8_ffpe   ihc_at8  ihc_a_beta_ffpe  ihc_ptdp_43_ffpe  \\\n",
       "0       0.003880      0.025751  0.021730         0.007529          0.001003   \n",
       "1       0.003159      0.001307  0.000115         0.003359          0.003090   \n",
       "2       0.001343      0.003324  0.000036         0.011338          0.001297   \n",
       "3       0.001691      0.017386  0.000048         0.003371          0.001614   \n",
       "4       0.001303      0.001567  0.000079         0.003648          0.000757   \n",
       "\n",
       "        ...        il_4_pg_per_mg  rantes_pg_per_mg  ab40_pg_per_mg  \\\n",
       "0       ...                  0.00             24.38        0.151900   \n",
       "1       ...                  0.88             11.58        0.618094   \n",
       "2       ...                  2.68             10.04        1.429312   \n",
       "3       ...                  0.00             82.18        0.218400   \n",
       "4       ...                  0.52             11.76        0.307125   \n",
       "\n",
       "   a_syn_pg_per_mg  ifn_g_pg_per_mg  mcp_1_pg_per_mg  bdnf_pg_per_mg  \\\n",
       "0         0.147220             3.24             0.02        3.113225   \n",
       "1         0.051980             0.64            15.26        1.920750   \n",
       "2         0.020000             0.60            52.94        0.020000   \n",
       "3         0.080000             0.66            10.14        0.080000   \n",
       "4         0.095635             0.00            28.28        3.146120   \n",
       "\n",
       "   mip_1a_pg_per_mg  il_7_pg_per_mg  ab42_pg_per_mg  \n",
       "0             44.83            2.50        0.160250  \n",
       "1              0.00           10.84        0.450625  \n",
       "2             11.90           12.86      286.210125  \n",
       "3             12.54           17.10        0.160875  \n",
       "4              6.00           36.26        0.650025  \n",
       "\n",
       "[5 rows x 33 columns]"
      ]
     },
     "execution_count": 4,
     "metadata": {},
     "output_type": "execute_result"
    }
   ],
   "source": [
    "ppq.head()"
   ]
  },
  {
   "cell_type": "markdown",
   "metadata": {
    "nbpresent": {
     "id": "88f33d7f-28a2-41c6-8602-8554b7eac69f"
    },
    "slideshow": {
     "slide_type": "slide"
    }
   },
   "source": [
    "---\n",
    "### $$ -- \\ Prep\\ Data\\  --$$"
   ]
  },
  {
   "cell_type": "code",
   "execution_count": 5,
   "metadata": {
    "collapsed": false,
    "nbpresent": {
     "id": "f3a34e31-7b7f-480b-a79c-8ad5a67fffd8"
    },
    "slideshow": {
     "slide_type": "skip"
    }
   },
   "outputs": [
    {
     "name": "stdout",
     "output_type": "stream",
     "text": [
      "<class 'pandas.core.frame.DataFrame'>\n",
      "RangeIndex: 377 entries, 0 to 376\n",
      "Data columns (total 33 columns):\n",
      "donor_id                 377 non-null int64\n",
      "donor_name               377 non-null object\n",
      "structure_id             377 non-null int64\n",
      "structure_acronym        377 non-null object\n",
      "ihc_a_syn                377 non-null float64\n",
      "ihc_tau2_ffpe            356 non-null float64\n",
      "ihc_at8_ffpe             361 non-null float64\n",
      "ihc_at8                  377 non-null float64\n",
      "ihc_a_beta_ffpe          355 non-null float64\n",
      "ihc_ptdp_43_ffpe         362 non-null float64\n",
      "ihc_a_beta               377 non-null float64\n",
      "ihc_iba1_ffpe            363 non-null float64\n",
      "ihc_gfap_ffpe            345 non-null float64\n",
      "ptau_ng_per_mg           332 non-null float64\n",
      "vegf_pg_per_mg           332 non-null float64\n",
      "ab42_over_ab40_ratio     327 non-null float64\n",
      "tnf_a_pg_per_mg          332 non-null float64\n",
      "tau_ng_per_mg            326 non-null float64\n",
      "il_10_pg_per_mg          332 non-null float64\n",
      "isoprostane_pg_per_mg    138 non-null float64\n",
      "il_6_pg_per_mg           332 non-null float64\n",
      "il_1b_pg_per_mg          332 non-null float64\n",
      "ptau_over_tau_ratio      326 non-null float64\n",
      "il_4_pg_per_mg           332 non-null float64\n",
      "rantes_pg_per_mg         332 non-null float64\n",
      "ab40_pg_per_mg           332 non-null float64\n",
      "a_syn_pg_per_mg          321 non-null float64\n",
      "ifn_g_pg_per_mg          332 non-null float64\n",
      "mcp_1_pg_per_mg          332 non-null float64\n",
      "bdnf_pg_per_mg           323 non-null float64\n",
      "mip_1a_pg_per_mg         332 non-null float64\n",
      "il_7_pg_per_mg           332 non-null float64\n",
      "ab42_pg_per_mg           332 non-null float64\n",
      "dtypes: float64(29), int64(2), object(2)\n",
      "memory usage: 97.3+ KB\n"
     ]
    }
   ],
   "source": [
    "ppq.info()"
   ]
  },
  {
   "cell_type": "markdown",
   "metadata": {
    "nbpresent": {
     "id": "cdb6aab9-5a91-4cd5-99ac-e8fb64f95fae"
    },
    "slideshow": {
     "slide_type": "slide"
    }
   },
   "source": [
    "### $$Imputation$$\n",
    "### $$\"\\ It's\\ a\\ \\underline{NaN}\\ problem!\\ \"$$\n",
    "\n",
    "`Options:`\n",
    "\n",
    "1. Remove the entries with missing data\n",
    "2. Take the means of the respective column and imput the mean in each\n",
    "3. Perform a `K-Nearest Neighbor` to be even more precise with the imputted value\n",
    "\n",
    ">Given the size of my dataset with the number of missing values and time constraints, \n",
    "\n",
    ">I decided on the second option - _to imput the respective means_ - utliziing $\\href{http://pandas.pydata.org/pandas-docs/stable/generated/pandas.DataFrame.fillna.html}{pandas.Dataframe.fillna()}$."
   ]
  },
  {
   "cell_type": "code",
   "execution_count": 6,
   "metadata": {
    "collapsed": false,
    "nbpresent": {
     "id": "bc735476-2535-4508-8e14-40624a7282e7"
    },
    "slideshow": {
     "slide_type": "slide"
    }
   },
   "outputs": [],
   "source": [
    "full_ppq = ppq.fillna(ppq.mean()) # Use fillna method with mean to imput the respective means"
   ]
  },
  {
   "cell_type": "code",
   "execution_count": 7,
   "metadata": {
    "collapsed": false,
    "nbpresent": {
     "id": "7362592d-f1ec-4c7a-8c9c-6a8b0eb939b3"
    },
    "slideshow": {
     "slide_type": "slide"
    }
   },
   "outputs": [
    {
     "data": {
      "text/plain": [
       "False"
      ]
     },
     "execution_count": 7,
     "metadata": {},
     "output_type": "execute_result"
    }
   ],
   "source": [
    "full_ppq.isnull().values.any() # No more null values"
   ]
  },
  {
   "cell_type": "code",
   "execution_count": 10,
   "metadata": {
    "collapsed": false,
    "nbpresent": {
     "id": "06453640-4bb3-4064-8aca-46dd34215431"
    },
    "slideshow": {
     "slide_type": "skip"
    }
   },
   "outputs": [
    {
     "data": {
      "text/plain": [
       "377"
      ]
     },
     "execution_count": 10,
     "metadata": {},
     "output_type": "execute_result"
    }
   ],
   "source": [
    "full_ppq.ptau_ng_per_mg.count() # Filled missing values within dropping entries, see this protein above as reference"
   ]
  },
  {
   "cell_type": "markdown",
   "metadata": {
    "nbpresent": {
     "id": "3eccc609-c268-4474-9a03-dfadbc5bd5b1"
    },
    "slideshow": {
     "slide_type": "skip"
    }
   },
   "source": [
    "---\n",
    "## `Load Clean data into SQL`"
   ]
  },
  {
   "cell_type": "code",
   "execution_count": 11,
   "metadata": {
    "collapsed": true,
    "nbpresent": {
     "id": "4f453a14-7d97-4ae6-8a30-26df01a2210d"
    },
    "slideshow": {
     "slide_type": "-"
    }
   },
   "outputs": [],
   "source": [
    "engine = create_engine('sqlite:///brainmap.db')\n",
    "conn = engine.connect()"
   ]
  },
  {
   "cell_type": "code",
   "execution_count": 12,
   "metadata": {
    "collapsed": false,
    "nbpresent": {
     "id": "92430d15-8aad-4312-8ef1-bc2c1a86e8c5"
    },
    "slideshow": {
     "slide_type": "-"
    }
   },
   "outputs": [],
   "source": [
    "# Call to DROP donor TABLE, if necessary\n",
    "conn.execute(\"DROP TABLE IF EXISTS donor\")\n",
    "\n",
    "# Call to DROP readings TABLE, if necessary\n",
    "conn.execute(\"DROP TABLE IF EXISTS readings\");"
   ]
  },
  {
   "cell_type": "code",
   "execution_count": 13,
   "metadata": {
    "collapsed": true,
    "nbpresent": {
     "id": "12e29b33-e39f-4f8e-a5e2-7c98bf38c0ab"
    },
    "slideshow": {
     "slide_type": "skip"
    }
   },
   "outputs": [],
   "source": [
    "# Create two tables - 1) donor & 2) readings - in brainmap database \n",
    "## [[ only run this once! ]]\n",
    "\n",
    "donor_info.to_sql('donor', conn)\n",
    "full_ppq.to_sql('readings', conn)"
   ]
  },
  {
   "cell_type": "markdown",
   "metadata": {
    "nbpresent": {
     "id": "b758992c-5ee5-48fd-9460-9047fa37ccbc"
    },
    "slideshow": {
     "slide_type": "slide"
    }
   },
   "source": [
    "---\n",
    "# Establish Observation Groups\n",
    "\n",
    "> 1. Donors  $\\underline{with}$  Traumatic brain inquiry ( TBI )\n",
    "> 2. Donors  $\\underline{without}$  Traumatic brain inquiry ( TBI )\n",
    "\n",
    "## `Separating Donors into Groups: With TBI & Without TBI`"
   ]
  },
  {
   "cell_type": "markdown",
   "metadata": {
    "collapsed": true,
    "nbpresent": {
     "id": "9c52960a-e5f5-46f4-bed4-bc9eb0e50973"
    },
    "slideshow": {
     "slide_type": "slide"
    }
   },
   "source": [
    "### [ STEP 1 ]  Join Tables Into One Observational DataFrame\n",
    "<br>\n",
    "* Create `obs_join` as Joined Dataframe"
   ]
  },
  {
   "cell_type": "code",
   "execution_count": 14,
   "metadata": {
    "collapsed": false,
    "nbpresent": {
     "id": "cd0b1804-1306-4c61-97b2-3d6081eee5ca"
    },
    "scrolled": false,
    "slideshow": {
     "slide_type": "subslide"
    }
   },
   "outputs": [],
   "source": [
    "obs_join = pd.read_sql_query(\"SELECT D.name, D.longest_loc_duration, D.nincds_arda_diagnosis, R.* FROM donor as D JOIN readings as R ON D.name = R.donor_name ORDER BY D.donor_id\", con='sqlite:///brainmap.db')"
   ]
  },
  {
   "cell_type": "markdown",
   "metadata": {},
   "source": [
    "* Drop noise columns - unnecessary columns - from the new dataframe"
   ]
  },
  {
   "cell_type": "code",
   "execution_count": 23,
   "metadata": {
    "collapsed": false,
    "nbpresent": {
     "id": "5fa7a5e0-687a-40ca-8cd3-0477a91b7ab3"
    },
    "slideshow": {
     "slide_type": "subslide"
    }
   },
   "outputs": [
    {
     "data": {
      "text/html": [
       "<div>\n",
       "<table border=\"1\" class=\"dataframe\">\n",
       "  <thead>\n",
       "    <tr style=\"text-align: right;\">\n",
       "      <th></th>\n",
       "      <th>name</th>\n",
       "      <th>longest_loc_duration</th>\n",
       "      <th>nincds_arda_diagnosis</th>\n",
       "      <th>donor_id</th>\n",
       "      <th>structure_id</th>\n",
       "      <th>structure_acronym</th>\n",
       "      <th>ihc_a_syn</th>\n",
       "      <th>ihc_tau2_ffpe</th>\n",
       "      <th>ihc_at8_ffpe</th>\n",
       "      <th>ihc_at8</th>\n",
       "      <th>...</th>\n",
       "      <th>il_4_pg_per_mg</th>\n",
       "      <th>rantes_pg_per_mg</th>\n",
       "      <th>ab40_pg_per_mg</th>\n",
       "      <th>a_syn_pg_per_mg</th>\n",
       "      <th>ifn_g_pg_per_mg</th>\n",
       "      <th>mcp_1_pg_per_mg</th>\n",
       "      <th>bdnf_pg_per_mg</th>\n",
       "      <th>mip_1a_pg_per_mg</th>\n",
       "      <th>il_7_pg_per_mg</th>\n",
       "      <th>ab42_pg_per_mg</th>\n",
       "    </tr>\n",
       "  </thead>\n",
       "  <tbody>\n",
       "    <tr>\n",
       "      <th>0</th>\n",
       "      <td>H14.09.001</td>\n",
       "      <td>&gt; 1 hr</td>\n",
       "      <td>No Dementia</td>\n",
       "      <td>309335438</td>\n",
       "      <td>10208</td>\n",
       "      <td>PCx</td>\n",
       "      <td>0.000103</td>\n",
       "      <td>0.002360</td>\n",
       "      <td>0.000789</td>\n",
       "      <td>0.000095</td>\n",
       "      <td>...</td>\n",
       "      <td>0.00</td>\n",
       "      <td>56.28</td>\n",
       "      <td>0.621950</td>\n",
       "      <td>0.046742</td>\n",
       "      <td>0.02</td>\n",
       "      <td>24.54</td>\n",
       "      <td>2.60468</td>\n",
       "      <td>10.26</td>\n",
       "      <td>7.82</td>\n",
       "      <td>31.100787</td>\n",
       "    </tr>\n",
       "    <tr>\n",
       "      <th>1</th>\n",
       "      <td>H14.09.001</td>\n",
       "      <td>&gt; 1 hr</td>\n",
       "      <td>No Dementia</td>\n",
       "      <td>309335438</td>\n",
       "      <td>10294</td>\n",
       "      <td>HIP</td>\n",
       "      <td>0.001042</td>\n",
       "      <td>0.008601</td>\n",
       "      <td>0.023308</td>\n",
       "      <td>0.022335</td>\n",
       "      <td>...</td>\n",
       "      <td>0.00</td>\n",
       "      <td>22.04</td>\n",
       "      <td>0.746850</td>\n",
       "      <td>0.411676</td>\n",
       "      <td>1.06</td>\n",
       "      <td>1.36</td>\n",
       "      <td>4.19939</td>\n",
       "      <td>51.08</td>\n",
       "      <td>0.16</td>\n",
       "      <td>0.235788</td>\n",
       "    </tr>\n",
       "    <tr>\n",
       "      <th>2</th>\n",
       "      <td>H14.09.001</td>\n",
       "      <td>&gt; 1 hr</td>\n",
       "      <td>No Dementia</td>\n",
       "      <td>309335438</td>\n",
       "      <td>10235</td>\n",
       "      <td>TCx</td>\n",
       "      <td>0.000138</td>\n",
       "      <td>0.001742</td>\n",
       "      <td>0.007628</td>\n",
       "      <td>0.000090</td>\n",
       "      <td>...</td>\n",
       "      <td>0.86</td>\n",
       "      <td>62.82</td>\n",
       "      <td>0.000000</td>\n",
       "      <td>0.020000</td>\n",
       "      <td>0.44</td>\n",
       "      <td>27.68</td>\n",
       "      <td>0.02000</td>\n",
       "      <td>12.34</td>\n",
       "      <td>24.74</td>\n",
       "      <td>0.078225</td>\n",
       "    </tr>\n",
       "    <tr>\n",
       "      <th>3</th>\n",
       "      <td>H14.09.001</td>\n",
       "      <td>&gt; 1 hr</td>\n",
       "      <td>No Dementia</td>\n",
       "      <td>309335438</td>\n",
       "      <td>10557</td>\n",
       "      <td>FWM</td>\n",
       "      <td>0.000104</td>\n",
       "      <td>0.002030</td>\n",
       "      <td>0.000677</td>\n",
       "      <td>0.000060</td>\n",
       "      <td>...</td>\n",
       "      <td>0.02</td>\n",
       "      <td>43.98</td>\n",
       "      <td>0.322081</td>\n",
       "      <td>0.070502</td>\n",
       "      <td>0.00</td>\n",
       "      <td>34.22</td>\n",
       "      <td>2.92748</td>\n",
       "      <td>10.42</td>\n",
       "      <td>10.54</td>\n",
       "      <td>0.225300</td>\n",
       "    </tr>\n",
       "    <tr>\n",
       "      <th>4</th>\n",
       "      <td>H14.09.002</td>\n",
       "      <td>Unknown or N/A</td>\n",
       "      <td>Probable Alzheimer'S Disease</td>\n",
       "      <td>309335439</td>\n",
       "      <td>10235</td>\n",
       "      <td>TCx</td>\n",
       "      <td>0.000060</td>\n",
       "      <td>0.001868</td>\n",
       "      <td>0.004853</td>\n",
       "      <td>0.000211</td>\n",
       "      <td>...</td>\n",
       "      <td>0.02</td>\n",
       "      <td>23.44</td>\n",
       "      <td>0.946400</td>\n",
       "      <td>0.030000</td>\n",
       "      <td>0.28</td>\n",
       "      <td>55.26</td>\n",
       "      <td>0.03000</td>\n",
       "      <td>8.06</td>\n",
       "      <td>17.30</td>\n",
       "      <td>2.051156</td>\n",
       "    </tr>\n",
       "  </tbody>\n",
       "</table>\n",
       "<p>5 rows × 33 columns</p>\n",
       "</div>"
      ],
      "text/plain": [
       "         name longest_loc_duration         nincds_arda_diagnosis   donor_id  \\\n",
       "0  H14.09.001               > 1 hr                   No Dementia  309335438   \n",
       "1  H14.09.001               > 1 hr                   No Dementia  309335438   \n",
       "2  H14.09.001               > 1 hr                   No Dementia  309335438   \n",
       "3  H14.09.001               > 1 hr                   No Dementia  309335438   \n",
       "4  H14.09.002       Unknown or N/A  Probable Alzheimer'S Disease  309335439   \n",
       "\n",
       "   structure_id structure_acronym  ihc_a_syn  ihc_tau2_ffpe  ihc_at8_ffpe  \\\n",
       "0         10208               PCx   0.000103       0.002360      0.000789   \n",
       "1         10294               HIP   0.001042       0.008601      0.023308   \n",
       "2         10235               TCx   0.000138       0.001742      0.007628   \n",
       "3         10557               FWM   0.000104       0.002030      0.000677   \n",
       "4         10235               TCx   0.000060       0.001868      0.004853   \n",
       "\n",
       "    ihc_at8       ...        il_4_pg_per_mg  rantes_pg_per_mg  ab40_pg_per_mg  \\\n",
       "0  0.000095       ...                  0.00             56.28        0.621950   \n",
       "1  0.022335       ...                  0.00             22.04        0.746850   \n",
       "2  0.000090       ...                  0.86             62.82        0.000000   \n",
       "3  0.000060       ...                  0.02             43.98        0.322081   \n",
       "4  0.000211       ...                  0.02             23.44        0.946400   \n",
       "\n",
       "   a_syn_pg_per_mg  ifn_g_pg_per_mg  mcp_1_pg_per_mg  bdnf_pg_per_mg  \\\n",
       "0         0.046742             0.02            24.54         2.60468   \n",
       "1         0.411676             1.06             1.36         4.19939   \n",
       "2         0.020000             0.44            27.68         0.02000   \n",
       "3         0.070502             0.00            34.22         2.92748   \n",
       "4         0.030000             0.28            55.26         0.03000   \n",
       "\n",
       "   mip_1a_pg_per_mg  il_7_pg_per_mg  ab42_pg_per_mg  \n",
       "0             10.26            7.82       31.100787  \n",
       "1             51.08            0.16        0.235788  \n",
       "2             12.34           24.74        0.078225  \n",
       "3             10.42           10.54        0.225300  \n",
       "4              8.06           17.30        2.051156  \n",
       "\n",
       "[5 rows x 33 columns]"
      ]
     },
     "execution_count": 23,
     "metadata": {},
     "output_type": "execute_result"
    }
   ],
   "source": [
    "# Remove redundant columns from new Dataframe\n",
    "obs_join.drop('donor_name', axis=1, inplace=True) # Donor_name from readings table\n",
    "obs_join.drop('index', axis=1, inplace=True) # Index from readings table\n",
    "\n",
    "obs_join.drop('ab42_over_ab40_ratio', axis=1, inplace=True) # Ratio Noise of ab42/ab42\n",
    "obs_join.drop('ptau_over_tau_ratio', axis=1, inplace=True) # Ratio Noise of ptau/ptau\n",
    "obs_join.head()"
   ]
  },
  {
   "cell_type": "markdown",
   "metadata": {
    "nbpresent": {
     "id": "b521de1f-f388-4bbd-beb2-ef8b5572e503"
    },
    "slideshow": {
     "slide_type": "slide"
    }
   },
   "source": [
    "### [ STEP 2 ]  Separate Donors into Two Subgroup: $\\hspace{0.5cm}$  `TBI & Without TBI`\n",
    "<br>\n",
    "* Parse out _Unknown or N/A != **With TBI**_ from dataframe"
   ]
  },
  {
   "cell_type": "code",
   "execution_count": 24,
   "metadata": {
    "collapsed": false,
    "nbpresent": {
     "id": "2311ede6-dc63-4baa-a322-812082a7a9b8"
    },
    "scrolled": true,
    "slideshow": {
     "slide_type": "subslide"
    }
   },
   "outputs": [
    {
     "data": {
      "text/html": [
       "<div>\n",
       "<table border=\"1\" class=\"dataframe\">\n",
       "  <thead>\n",
       "    <tr style=\"text-align: right;\">\n",
       "      <th></th>\n",
       "      <th>name</th>\n",
       "      <th>longest_loc_duration</th>\n",
       "      <th>nincds_arda_diagnosis</th>\n",
       "      <th>donor_id</th>\n",
       "      <th>structure_id</th>\n",
       "      <th>structure_acronym</th>\n",
       "      <th>ihc_a_syn</th>\n",
       "      <th>ihc_tau2_ffpe</th>\n",
       "      <th>ihc_at8_ffpe</th>\n",
       "      <th>ihc_at8</th>\n",
       "      <th>...</th>\n",
       "      <th>il_4_pg_per_mg</th>\n",
       "      <th>rantes_pg_per_mg</th>\n",
       "      <th>ab40_pg_per_mg</th>\n",
       "      <th>a_syn_pg_per_mg</th>\n",
       "      <th>ifn_g_pg_per_mg</th>\n",
       "      <th>mcp_1_pg_per_mg</th>\n",
       "      <th>bdnf_pg_per_mg</th>\n",
       "      <th>mip_1a_pg_per_mg</th>\n",
       "      <th>il_7_pg_per_mg</th>\n",
       "      <th>ab42_pg_per_mg</th>\n",
       "    </tr>\n",
       "  </thead>\n",
       "  <tbody>\n",
       "    <tr>\n",
       "      <th>0</th>\n",
       "      <td>H14.09.001</td>\n",
       "      <td>&gt; 1 hr</td>\n",
       "      <td>No Dementia</td>\n",
       "      <td>309335438</td>\n",
       "      <td>10208</td>\n",
       "      <td>PCx</td>\n",
       "      <td>0.000103</td>\n",
       "      <td>0.002360</td>\n",
       "      <td>0.000789</td>\n",
       "      <td>0.000095</td>\n",
       "      <td>...</td>\n",
       "      <td>0.00</td>\n",
       "      <td>56.28</td>\n",
       "      <td>0.621950</td>\n",
       "      <td>0.046742</td>\n",
       "      <td>0.02</td>\n",
       "      <td>24.54</td>\n",
       "      <td>2.60468</td>\n",
       "      <td>10.26</td>\n",
       "      <td>7.82</td>\n",
       "      <td>31.100787</td>\n",
       "    </tr>\n",
       "    <tr>\n",
       "      <th>1</th>\n",
       "      <td>H14.09.001</td>\n",
       "      <td>&gt; 1 hr</td>\n",
       "      <td>No Dementia</td>\n",
       "      <td>309335438</td>\n",
       "      <td>10294</td>\n",
       "      <td>HIP</td>\n",
       "      <td>0.001042</td>\n",
       "      <td>0.008601</td>\n",
       "      <td>0.023308</td>\n",
       "      <td>0.022335</td>\n",
       "      <td>...</td>\n",
       "      <td>0.00</td>\n",
       "      <td>22.04</td>\n",
       "      <td>0.746850</td>\n",
       "      <td>0.411676</td>\n",
       "      <td>1.06</td>\n",
       "      <td>1.36</td>\n",
       "      <td>4.19939</td>\n",
       "      <td>51.08</td>\n",
       "      <td>0.16</td>\n",
       "      <td>0.235788</td>\n",
       "    </tr>\n",
       "    <tr>\n",
       "      <th>2</th>\n",
       "      <td>H14.09.001</td>\n",
       "      <td>&gt; 1 hr</td>\n",
       "      <td>No Dementia</td>\n",
       "      <td>309335438</td>\n",
       "      <td>10235</td>\n",
       "      <td>TCx</td>\n",
       "      <td>0.000138</td>\n",
       "      <td>0.001742</td>\n",
       "      <td>0.007628</td>\n",
       "      <td>0.000090</td>\n",
       "      <td>...</td>\n",
       "      <td>0.86</td>\n",
       "      <td>62.82</td>\n",
       "      <td>0.000000</td>\n",
       "      <td>0.020000</td>\n",
       "      <td>0.44</td>\n",
       "      <td>27.68</td>\n",
       "      <td>0.02000</td>\n",
       "      <td>12.34</td>\n",
       "      <td>24.74</td>\n",
       "      <td>0.078225</td>\n",
       "    </tr>\n",
       "    <tr>\n",
       "      <th>3</th>\n",
       "      <td>H14.09.001</td>\n",
       "      <td>&gt; 1 hr</td>\n",
       "      <td>No Dementia</td>\n",
       "      <td>309335438</td>\n",
       "      <td>10557</td>\n",
       "      <td>FWM</td>\n",
       "      <td>0.000104</td>\n",
       "      <td>0.002030</td>\n",
       "      <td>0.000677</td>\n",
       "      <td>0.000060</td>\n",
       "      <td>...</td>\n",
       "      <td>0.02</td>\n",
       "      <td>43.98</td>\n",
       "      <td>0.322081</td>\n",
       "      <td>0.070502</td>\n",
       "      <td>0.00</td>\n",
       "      <td>34.22</td>\n",
       "      <td>2.92748</td>\n",
       "      <td>10.42</td>\n",
       "      <td>10.54</td>\n",
       "      <td>0.225300</td>\n",
       "    </tr>\n",
       "    <tr>\n",
       "      <th>8</th>\n",
       "      <td>H14.09.003</td>\n",
       "      <td>10 min - 1 hr</td>\n",
       "      <td>No Dementia</td>\n",
       "      <td>309335440</td>\n",
       "      <td>10235</td>\n",
       "      <td>TCx</td>\n",
       "      <td>0.000048</td>\n",
       "      <td>0.004628</td>\n",
       "      <td>0.001255</td>\n",
       "      <td>0.001448</td>\n",
       "      <td>...</td>\n",
       "      <td>0.62</td>\n",
       "      <td>67.32</td>\n",
       "      <td>0.000000</td>\n",
       "      <td>0.020000</td>\n",
       "      <td>0.70</td>\n",
       "      <td>134.70</td>\n",
       "      <td>0.02000</td>\n",
       "      <td>15.00</td>\n",
       "      <td>11.10</td>\n",
       "      <td>37.363613</td>\n",
       "    </tr>\n",
       "  </tbody>\n",
       "</table>\n",
       "<p>5 rows × 33 columns</p>\n",
       "</div>"
      ],
      "text/plain": [
       "         name longest_loc_duration nincds_arda_diagnosis   donor_id  \\\n",
       "0  H14.09.001               > 1 hr           No Dementia  309335438   \n",
       "1  H14.09.001               > 1 hr           No Dementia  309335438   \n",
       "2  H14.09.001               > 1 hr           No Dementia  309335438   \n",
       "3  H14.09.001               > 1 hr           No Dementia  309335438   \n",
       "8  H14.09.003        10 min - 1 hr           No Dementia  309335440   \n",
       "\n",
       "   structure_id structure_acronym  ihc_a_syn  ihc_tau2_ffpe  ihc_at8_ffpe  \\\n",
       "0         10208               PCx   0.000103       0.002360      0.000789   \n",
       "1         10294               HIP   0.001042       0.008601      0.023308   \n",
       "2         10235               TCx   0.000138       0.001742      0.007628   \n",
       "3         10557               FWM   0.000104       0.002030      0.000677   \n",
       "8         10235               TCx   0.000048       0.004628      0.001255   \n",
       "\n",
       "    ihc_at8       ...        il_4_pg_per_mg  rantes_pg_per_mg  ab40_pg_per_mg  \\\n",
       "0  0.000095       ...                  0.00             56.28        0.621950   \n",
       "1  0.022335       ...                  0.00             22.04        0.746850   \n",
       "2  0.000090       ...                  0.86             62.82        0.000000   \n",
       "3  0.000060       ...                  0.02             43.98        0.322081   \n",
       "8  0.001448       ...                  0.62             67.32        0.000000   \n",
       "\n",
       "   a_syn_pg_per_mg  ifn_g_pg_per_mg  mcp_1_pg_per_mg  bdnf_pg_per_mg  \\\n",
       "0         0.046742             0.02            24.54         2.60468   \n",
       "1         0.411676             1.06             1.36         4.19939   \n",
       "2         0.020000             0.44            27.68         0.02000   \n",
       "3         0.070502             0.00            34.22         2.92748   \n",
       "8         0.020000             0.70           134.70         0.02000   \n",
       "\n",
       "   mip_1a_pg_per_mg  il_7_pg_per_mg  ab42_pg_per_mg  \n",
       "0             10.26            7.82       31.100787  \n",
       "1             51.08            0.16        0.235788  \n",
       "2             12.34           24.74        0.078225  \n",
       "3             10.42           10.54        0.225300  \n",
       "8             15.00           11.10       37.363613  \n",
       "\n",
       "[5 rows x 33 columns]"
      ]
     },
     "execution_count": 24,
     "metadata": {},
     "output_type": "execute_result"
    }
   ],
   "source": [
    "# Extracting the 'with TBI' subgroup\n",
    "tbi = obs_join[obs_join['longest_loc_duration'] != 'Unknown or N/A']\n",
    "tbi.head()"
   ]
  },
  {
   "cell_type": "code",
   "execution_count": 25,
   "metadata": {
    "collapsed": false,
    "nbpresent": {
     "id": "d9baa268-170d-4978-9a94-bb9059b06d39"
    },
    "slideshow": {
     "slide_type": "skip"
    }
   },
   "outputs": [
    {
     "name": "stdout",
     "output_type": "stream",
     "text": [
      "TBI group: 155\n"
     ]
    }
   ],
   "source": [
    "print('TBI group:', tbi['name'].count())"
   ]
  },
  {
   "cell_type": "markdown",
   "metadata": {},
   "source": [
    "* Parse out _Unknown or N/A = **Without TBI**_ from dataframe"
   ]
  },
  {
   "cell_type": "code",
   "execution_count": 26,
   "metadata": {
    "collapsed": false,
    "nbpresent": {
     "id": "6fc84047-b286-42a3-966c-46cbcfc825fb"
    },
    "slideshow": {
     "slide_type": "subslide"
    }
   },
   "outputs": [
    {
     "data": {
      "text/html": [
       "<div>\n",
       "<table border=\"1\" class=\"dataframe\">\n",
       "  <thead>\n",
       "    <tr style=\"text-align: right;\">\n",
       "      <th></th>\n",
       "      <th>name</th>\n",
       "      <th>longest_loc_duration</th>\n",
       "      <th>nincds_arda_diagnosis</th>\n",
       "      <th>donor_id</th>\n",
       "      <th>structure_id</th>\n",
       "      <th>structure_acronym</th>\n",
       "      <th>ihc_a_syn</th>\n",
       "      <th>ihc_tau2_ffpe</th>\n",
       "      <th>ihc_at8_ffpe</th>\n",
       "      <th>ihc_at8</th>\n",
       "      <th>...</th>\n",
       "      <th>il_4_pg_per_mg</th>\n",
       "      <th>rantes_pg_per_mg</th>\n",
       "      <th>ab40_pg_per_mg</th>\n",
       "      <th>a_syn_pg_per_mg</th>\n",
       "      <th>ifn_g_pg_per_mg</th>\n",
       "      <th>mcp_1_pg_per_mg</th>\n",
       "      <th>bdnf_pg_per_mg</th>\n",
       "      <th>mip_1a_pg_per_mg</th>\n",
       "      <th>il_7_pg_per_mg</th>\n",
       "      <th>ab42_pg_per_mg</th>\n",
       "    </tr>\n",
       "  </thead>\n",
       "  <tbody>\n",
       "    <tr>\n",
       "      <th>4</th>\n",
       "      <td>H14.09.002</td>\n",
       "      <td>Unknown or N/A</td>\n",
       "      <td>Probable Alzheimer'S Disease</td>\n",
       "      <td>309335439</td>\n",
       "      <td>10235</td>\n",
       "      <td>TCx</td>\n",
       "      <td>0.000060</td>\n",
       "      <td>0.001868</td>\n",
       "      <td>0.004853</td>\n",
       "      <td>0.000211</td>\n",
       "      <td>...</td>\n",
       "      <td>0.02</td>\n",
       "      <td>23.44</td>\n",
       "      <td>0.946400</td>\n",
       "      <td>0.030000</td>\n",
       "      <td>0.28</td>\n",
       "      <td>55.26</td>\n",
       "      <td>0.03000</td>\n",
       "      <td>8.06</td>\n",
       "      <td>17.30</td>\n",
       "      <td>2.051156</td>\n",
       "    </tr>\n",
       "    <tr>\n",
       "      <th>5</th>\n",
       "      <td>H14.09.002</td>\n",
       "      <td>Unknown or N/A</td>\n",
       "      <td>Probable Alzheimer'S Disease</td>\n",
       "      <td>309335439</td>\n",
       "      <td>10557</td>\n",
       "      <td>FWM</td>\n",
       "      <td>0.000064</td>\n",
       "      <td>0.003858</td>\n",
       "      <td>0.001381</td>\n",
       "      <td>0.000192</td>\n",
       "      <td>...</td>\n",
       "      <td>0.34</td>\n",
       "      <td>52.90</td>\n",
       "      <td>0.366506</td>\n",
       "      <td>0.050262</td>\n",
       "      <td>0.44</td>\n",
       "      <td>75.28</td>\n",
       "      <td>2.50784</td>\n",
       "      <td>12.94</td>\n",
       "      <td>8.96</td>\n",
       "      <td>1.333025</td>\n",
       "    </tr>\n",
       "    <tr>\n",
       "      <th>6</th>\n",
       "      <td>H14.09.002</td>\n",
       "      <td>Unknown or N/A</td>\n",
       "      <td>Probable Alzheimer'S Disease</td>\n",
       "      <td>309335439</td>\n",
       "      <td>10208</td>\n",
       "      <td>PCx</td>\n",
       "      <td>0.000072</td>\n",
       "      <td>0.003865</td>\n",
       "      <td>0.001862</td>\n",
       "      <td>0.000122</td>\n",
       "      <td>...</td>\n",
       "      <td>1.00</td>\n",
       "      <td>45.94</td>\n",
       "      <td>0.333188</td>\n",
       "      <td>0.047842</td>\n",
       "      <td>0.30</td>\n",
       "      <td>76.98</td>\n",
       "      <td>3.18572</td>\n",
       "      <td>12.74</td>\n",
       "      <td>18.18</td>\n",
       "      <td>0.469375</td>\n",
       "    </tr>\n",
       "    <tr>\n",
       "      <th>7</th>\n",
       "      <td>H14.09.002</td>\n",
       "      <td>Unknown or N/A</td>\n",
       "      <td>Probable Alzheimer'S Disease</td>\n",
       "      <td>309335439</td>\n",
       "      <td>10294</td>\n",
       "      <td>HIP</td>\n",
       "      <td>0.000122</td>\n",
       "      <td>0.008144</td>\n",
       "      <td>0.028297</td>\n",
       "      <td>0.057176</td>\n",
       "      <td>...</td>\n",
       "      <td>0.00</td>\n",
       "      <td>11.60</td>\n",
       "      <td>0.698975</td>\n",
       "      <td>0.060818</td>\n",
       "      <td>0.00</td>\n",
       "      <td>2.00</td>\n",
       "      <td>11.40098</td>\n",
       "      <td>112.92</td>\n",
       "      <td>0.72</td>\n",
       "      <td>0.308337</td>\n",
       "    </tr>\n",
       "    <tr>\n",
       "      <th>10</th>\n",
       "      <td>H14.09.004</td>\n",
       "      <td>Unknown or N/A</td>\n",
       "      <td>No Dementia</td>\n",
       "      <td>309335441</td>\n",
       "      <td>10235</td>\n",
       "      <td>TCx</td>\n",
       "      <td>0.000072</td>\n",
       "      <td>0.004197</td>\n",
       "      <td>0.005373</td>\n",
       "      <td>0.000889</td>\n",
       "      <td>...</td>\n",
       "      <td>0.00</td>\n",
       "      <td>25.64</td>\n",
       "      <td>1.474200</td>\n",
       "      <td>0.170000</td>\n",
       "      <td>0.00</td>\n",
       "      <td>24.28</td>\n",
       "      <td>0.17000</td>\n",
       "      <td>5.64</td>\n",
       "      <td>19.78</td>\n",
       "      <td>564.526462</td>\n",
       "    </tr>\n",
       "  </tbody>\n",
       "</table>\n",
       "<p>5 rows × 33 columns</p>\n",
       "</div>"
      ],
      "text/plain": [
       "          name longest_loc_duration         nincds_arda_diagnosis   donor_id  \\\n",
       "4   H14.09.002       Unknown or N/A  Probable Alzheimer'S Disease  309335439   \n",
       "5   H14.09.002       Unknown or N/A  Probable Alzheimer'S Disease  309335439   \n",
       "6   H14.09.002       Unknown or N/A  Probable Alzheimer'S Disease  309335439   \n",
       "7   H14.09.002       Unknown or N/A  Probable Alzheimer'S Disease  309335439   \n",
       "10  H14.09.004       Unknown or N/A                   No Dementia  309335441   \n",
       "\n",
       "    structure_id structure_acronym  ihc_a_syn  ihc_tau2_ffpe  ihc_at8_ffpe  \\\n",
       "4          10235               TCx   0.000060       0.001868      0.004853   \n",
       "5          10557               FWM   0.000064       0.003858      0.001381   \n",
       "6          10208               PCx   0.000072       0.003865      0.001862   \n",
       "7          10294               HIP   0.000122       0.008144      0.028297   \n",
       "10         10235               TCx   0.000072       0.004197      0.005373   \n",
       "\n",
       "     ihc_at8       ...        il_4_pg_per_mg  rantes_pg_per_mg  \\\n",
       "4   0.000211       ...                  0.02             23.44   \n",
       "5   0.000192       ...                  0.34             52.90   \n",
       "6   0.000122       ...                  1.00             45.94   \n",
       "7   0.057176       ...                  0.00             11.60   \n",
       "10  0.000889       ...                  0.00             25.64   \n",
       "\n",
       "    ab40_pg_per_mg  a_syn_pg_per_mg  ifn_g_pg_per_mg  mcp_1_pg_per_mg  \\\n",
       "4         0.946400         0.030000             0.28            55.26   \n",
       "5         0.366506         0.050262             0.44            75.28   \n",
       "6         0.333188         0.047842             0.30            76.98   \n",
       "7         0.698975         0.060818             0.00             2.00   \n",
       "10        1.474200         0.170000             0.00            24.28   \n",
       "\n",
       "    bdnf_pg_per_mg  mip_1a_pg_per_mg  il_7_pg_per_mg  ab42_pg_per_mg  \n",
       "4          0.03000              8.06           17.30        2.051156  \n",
       "5          2.50784             12.94            8.96        1.333025  \n",
       "6          3.18572             12.74           18.18        0.469375  \n",
       "7         11.40098            112.92            0.72        0.308337  \n",
       "10         0.17000              5.64           19.78      564.526462  \n",
       "\n",
       "[5 rows x 33 columns]"
      ]
     },
     "execution_count": 26,
     "metadata": {},
     "output_type": "execute_result"
    }
   ],
   "source": [
    "# Extracting the 'without TBI' subgroup \n",
    "wo_tbi = obs_join[obs_join['longest_loc_duration'] == 'Unknown or N/A']\n",
    "wo_tbi.head()"
   ]
  },
  {
   "cell_type": "code",
   "execution_count": 27,
   "metadata": {
    "collapsed": false,
    "nbpresent": {
     "id": "69b8d51d-6d48-445f-b2d8-b6ea469b7a3f"
    },
    "slideshow": {
     "slide_type": "skip"
    }
   },
   "outputs": [
    {
     "name": "stdout",
     "output_type": "stream",
     "text": [
      "Without TBI group: 222\n"
     ]
    }
   ],
   "source": [
    "print('Without TBI group:', wo_tbi['name'].count())"
   ]
  },
  {
   "cell_type": "markdown",
   "metadata": {
    "nbpresent": {
     "id": "245402fb-3079-4ea7-b6c6-262eb359415d"
    },
    "slideshow": {
     "slide_type": "slide"
    }
   },
   "source": [
    "### [ STEP 3 ]  Subdivide Subgroups by Categories:  \n",
    "\n",
    ">### Group1: $\\hspace{0.5cm}$ `No Dementia`\n",
    ">### Group2: $\\hspace{0.5cm}$ `Dementia (Unknown)`\n",
    ">### Group3: $\\hspace{0.5cm}$ `Possible/Probable Alzheimer's`"
   ]
  },
  {
   "cell_type": "markdown",
   "metadata": {
    "nbpresent": {
     "id": "7a00a9fb-add5-46ab-b3d6-668c93d3bda1"
    },
    "slideshow": {
     "slide_type": "slide"
    }
   },
   "source": [
    "##  `With TBI`"
   ]
  },
  {
   "cell_type": "code",
   "execution_count": 28,
   "metadata": {
    "collapsed": false,
    "nbpresent": {
     "id": "592158f1-0388-4f92-8151-c33aae833480"
    },
    "slideshow": {
     "slide_type": "subslide"
    }
   },
   "outputs": [],
   "source": [
    "# --- No Dementia ---\n",
    "tbi_nd = tbi[tbi['nincds_arda_diagnosis'] == \"No Dementia\"].ix[:,6:].values\n",
    "\n",
    "# --- Dementia (Unknown)---\n",
    "tbi_d = tbi[tbi['nincds_arda_diagnosis'] == \"Dementia, Type Unknown\"].ix[:,6:].values\n",
    "\n",
    "# --- Possible/Probable Alzheimer's ---\n",
    "tbi_ppa = tbi[(tbi['nincds_arda_diagnosis'] == \"Probable Alzheimer'S Disease\") | (tbi['nincds_arda_diagnosis'] == \"Possible Alzheimer'S Disease\")].ix[:,6:].values"
   ]
  },
  {
   "cell_type": "code",
   "execution_count": 29,
   "metadata": {
    "collapsed": false,
    "nbpresent": {
     "id": "017c0297-83c2-4933-ab3f-6e405c978483"
    },
    "slideshow": {
     "slide_type": "subslide"
    }
   },
   "outputs": [
    {
     "name": "stdout",
     "output_type": "stream",
     "text": [
      "TBI - No Dementia: 75 entries x 27 features\n",
      "\n",
      "TBI - Dementia: 20 entries x 27 features\n",
      "\n",
      "TBI - Alzheimer's: 60 entries x 27 features\n",
      "\n"
     ]
    }
   ],
   "source": [
    "print('TBI - No Dementia: {} entries x {} features'.format(tbi_nd.shape[0],tbi_nd.shape[1]), end='\\n\\n')\n",
    "print('TBI - Dementia: {} entries x {} features'.format(tbi_d.shape[0],tbi_d.shape[1]), end='\\n\\n')\n",
    "print(\"TBI - Alzheimer's: {} entries x {} features\".format(tbi_ppa.shape[0],tbi_ppa.shape[1]), end='\\n\\n')"
   ]
  },
  {
   "cell_type": "markdown",
   "metadata": {
    "nbpresent": {
     "id": "bc2e648e-7e0d-48b5-bc62-b8f82a393ec0"
    },
    "slideshow": {
     "slide_type": "slide"
    }
   },
   "source": [
    "##  `Without TBI`"
   ]
  },
  {
   "cell_type": "code",
   "execution_count": 30,
   "metadata": {
    "collapsed": false,
    "nbpresent": {
     "id": "45568f84-36a9-4b36-b7af-7b403224547e"
    },
    "slideshow": {
     "slide_type": "subslide"
    }
   },
   "outputs": [],
   "source": [
    "# --- No Dementia ---\n",
    "wo_tbi_nd = wo_tbi[wo_tbi['nincds_arda_diagnosis'] == \"No Dementia\"].ix[:,6:].values\n",
    "\n",
    "# --- Dementia (Unknown)---\n",
    "wo_tbi_d = wo_tbi[wo_tbi['nincds_arda_diagnosis'] == \"Dementia, Type Unknown\"].ix[:,6:].values\n",
    "\n",
    "# --- Possible/Probable Alzheimer's ---\n",
    "wo_tbi_ppa = wo_tbi[(wo_tbi['nincds_arda_diagnosis'] == \"Probable Alzheimer'S Disease\") | (wo_tbi['nincds_arda_diagnosis'] == \"Possible Alzheimer'S Disease\")].ix[:,6:].values\n"
   ]
  },
  {
   "cell_type": "code",
   "execution_count": 31,
   "metadata": {
    "collapsed": false,
    "nbpresent": {
     "id": "bd5fd4b8-6cd0-4589-b555-4baf23f6eea9"
    },
    "slideshow": {
     "slide_type": "subslide"
    }
   },
   "outputs": [
    {
     "name": "stdout",
     "output_type": "stream",
     "text": [
      "Without TBI - No Dementia: 118 entries x 27 features\n",
      "\n",
      "Without TBI - Dementia: 12 entries x 27 features\n",
      "\n",
      "Without TBI - Alzheimer's: 92 entries x 27 features\n",
      "\n"
     ]
    }
   ],
   "source": [
    "print('Without TBI - No Dementia: {} entries x {} features'.format(wo_tbi_nd.shape[0],wo_tbi_nd.shape[1]), end='\\n\\n')\n",
    "print('Without TBI - Dementia: {} entries x {} features'.format(wo_tbi_d.shape[0],wo_tbi_d.shape[1]), end='\\n\\n')\n",
    "print(\"Without TBI - Alzheimer's: {} entries x {} features\".format(wo_tbi_ppa.shape[0],wo_tbi_ppa.shape[1]), end='\\n\\n')"
   ]
  },
  {
   "cell_type": "markdown",
   "metadata": {
    "nbpresent": {
     "id": "27ddf460-8368-4613-8edf-500195a94d7a"
    },
    "slideshow": {
     "slide_type": "slide"
    }
   },
   "source": [
    "---\n",
    "### $$ -- \\ Run\\ PCA\\  --$$"
   ]
  },
  {
   "cell_type": "markdown",
   "metadata": {
    "nbpresent": {
     "id": "92d67f72-5c8f-4653-aac9-ae3dbf8a06ef"
    },
    "slideshow": {
     "slide_type": "skip"
    }
   },
   "source": [
    "## `Standardize Dataset`\n",
    "\n",
    "**Rationle:** \n",
    "Since the features of my dataset have varying parameters of measurement, the data must first be standardized in order to successfully perform PCA."
   ]
  },
  {
   "cell_type": "markdown",
   "metadata": {
    "nbpresent": {
     "id": "65886e15-eb4a-45f2-99d2-f832378c9424"
    },
    "slideshow": {
     "slide_type": "slide"
    }
   },
   "source": [
    "##  `Standardize - With TBI`"
   ]
  },
  {
   "cell_type": "markdown",
   "metadata": {},
   "source": [
    "* **BEFORE** Standardization"
   ]
  },
  {
   "cell_type": "code",
   "execution_count": 34,
   "metadata": {
    "collapsed": false,
    "nbpresent": {
     "id": "ecd09c54-76f4-445c-bf71-065f39e7a2df"
    },
    "scrolled": false,
    "slideshow": {
     "slide_type": "subslide"
    }
   },
   "outputs": [
    {
     "name": "stdout",
     "output_type": "stream",
     "text": [
      "[ 56.28]\n",
      "\n",
      "[ 22.82]\n",
      "\n",
      "[ 129.76]\n",
      "\n"
     ]
    }
   ],
   "source": [
    " # Parse out all of the feature entries by column (feature space)\n",
    "print(tbi_nd[:1,18], end='\\n\\n')\n",
    "print(tbi_d[:1,18], end='\\n\\n')\n",
    "print(tbi_ppa[:1,18], end='\\n\\n')"
   ]
  },
  {
   "cell_type": "markdown",
   "metadata": {},
   "source": [
    "* **AFTER** Standardization"
   ]
  },
  {
   "cell_type": "code",
   "execution_count": 35,
   "metadata": {
    "collapsed": false,
    "nbpresent": {
     "id": "56276648-b6fe-499f-8c2e-6f2ce2757cdd"
    },
    "slideshow": {
     "slide_type": "subslide"
    }
   },
   "outputs": [
    {
     "name": "stdout",
     "output_type": "stream",
     "text": [
      "[ 0.40633459]\n",
      "\n",
      "[-0.65298711]\n",
      "\n",
      "[ 2.31851049]\n",
      "\n"
     ]
    }
   ],
   "source": [
    "tbi_ND = StandardScaler().fit_transform(tbi_nd)\n",
    "tbi_D = StandardScaler().fit_transform(tbi_d)\n",
    "tbi_PPA = StandardScaler().fit_transform(tbi_ppa)\n",
    "\n",
    "print(tbi_ND[:1,18], end='\\n\\n')\n",
    "print(tbi_D[:1,18], end='\\n\\n')\n",
    "print(tbi_PPA[:1,18], end='\\n\\n')"
   ]
  },
  {
   "cell_type": "markdown",
   "metadata": {
    "nbpresent": {
     "id": "ee41fa4a-2791-432b-b23d-56847cbb6a98"
    },
    "slideshow": {
     "slide_type": "skip"
    }
   },
   "source": [
    "##  `Without TBI`"
   ]
  },
  {
   "cell_type": "markdown",
   "metadata": {},
   "source": [
    "* **BEFORE** Standardization"
   ]
  },
  {
   "cell_type": "code",
   "execution_count": 24,
   "metadata": {
    "collapsed": false,
    "nbpresent": {
     "id": "a22e2625-7532-4e77-afcb-122b705626b0"
    },
    "slideshow": {
     "slide_type": "skip"
    }
   },
   "outputs": [
    {
     "name": "stdout",
     "output_type": "stream",
     "text": [
      "[ 25.64]\n",
      "\n",
      "[ 10.76]\n",
      "\n",
      "[ 23.44]\n",
      "\n"
     ]
    }
   ],
   "source": [
    " # Parse out all of the feature entries by column (feature space)\n",
    "print(wo_tbi_nd[:1,18], end='\\n\\n')\n",
    "print(wo_tbi_d[:1,18], end='\\n\\n')\n",
    "print(wo_tbi_ppa[:1,18], end='\\n\\n')"
   ]
  },
  {
   "cell_type": "markdown",
   "metadata": {},
   "source": [
    "* **AFTER** Standardization"
   ]
  },
  {
   "cell_type": "code",
   "execution_count": 36,
   "metadata": {
    "collapsed": false,
    "nbpresent": {
     "id": "d0e2629b-d3a6-4d00-9149-2e891fb52a5d"
    },
    "slideshow": {
     "slide_type": "skip"
    }
   },
   "outputs": [
    {
     "name": "stdout",
     "output_type": "stream",
     "text": [
      "[-0.39689004]\n",
      "\n",
      "[-0.7098794]\n",
      "\n",
      "[-0.33107239]\n",
      "\n"
     ]
    }
   ],
   "source": [
    "wo_tbi_ND = StandardScaler().fit_transform(wo_tbi_nd)\n",
    "wo_tbi_D = StandardScaler().fit_transform(wo_tbi_d)\n",
    "wo_tbi_PPA = StandardScaler().fit_transform(wo_tbi_ppa)\n",
    "\n",
    "print(wo_tbi_ND[:1,18], end='\\n\\n')\n",
    "print(wo_tbi_D[:1,18], end='\\n\\n')\n",
    "print(wo_tbi_PPA[:1,18], end='\\n\\n')"
   ]
  },
  {
   "cell_type": "markdown",
   "metadata": {
    "nbpresent": {
     "id": "1554bd82-4788-4667-9ee5-380032e819d2"
    },
    "slideshow": {
     "slide_type": "slide"
    }
   },
   "source": [
    "---\n",
    "# `Principal Component Analysis`\n",
    "* `PCA(n_componments=?)` - sets the number of principal components for precedure \n",
    "* `PCA.fit_transform()` - creates the covariance matrix from standardize original data and projects the transformation into a new (smaller) v-dimensional subspace.\n",
    "<br>"
   ]
  },
  {
   "cell_type": "markdown",
   "metadata": {},
   "source": [
    "* Setup PCA precedure constraint to [ `2 principal components` ]"
   ]
  },
  {
   "cell_type": "code",
   "execution_count": 37,
   "metadata": {
    "collapsed": true,
    "nbpresent": {
     "id": "b32b0686-6209-42c3-b558-34d24c792b55"
    },
    "slideshow": {
     "slide_type": "slide"
    }
   },
   "outputs": [],
   "source": [
    "pca = PCA(n_components=2)"
   ]
  },
  {
   "cell_type": "markdown",
   "metadata": {
    "nbpresent": {
     "id": "3adbd669-0a0e-4cd3-a717-4f0cd9e34b13"
    },
    "slideshow": {
     "slide_type": "slide"
    }
   },
   "source": [
    "##  PCA $\\underline{with}$ `TBI`"
   ]
  },
  {
   "cell_type": "code",
   "execution_count": 38,
   "metadata": {
    "collapsed": false,
    "nbpresent": {
     "id": "7c8f596e-d34b-4fba-8427-f6a694fd93ad"
    },
    "slideshow": {
     "slide_type": "subslide"
    }
   },
   "outputs": [],
   "source": [
    "pca_TND = pca.fit_transform(tbi_ND)\n",
    "pca_TD = pca.fit_transform(tbi_D)\n",
    "pca_TPPA = pca.fit_transform(tbi_PPA)"
   ]
  },
  {
   "cell_type": "markdown",
   "metadata": {
    "collapsed": true,
    "nbpresent": {
     "id": "9a7f8307-6bde-4d8c-93a6-491f91626150"
    },
    "slideshow": {
     "slide_type": "slide"
    }
   },
   "source": [
    "##  PCA $\\underline{without}$ `TBI`"
   ]
  },
  {
   "cell_type": "code",
   "execution_count": 39,
   "metadata": {
    "collapsed": true,
    "nbpresent": {
     "id": "2370db97-11e8-4718-b44b-6698ea5cdceb"
    },
    "slideshow": {
     "slide_type": "subslide"
    }
   },
   "outputs": [],
   "source": [
    "pca_ND = pca.fit_transform(wo_tbi_ND)\n",
    "pca_D = pca.fit_transform(wo_tbi_D)\n",
    "pca_PPA = pca.fit_transform(wo_tbi_PPA)"
   ]
  },
  {
   "cell_type": "markdown",
   "metadata": {
    "nbpresent": {
     "id": "24a3ad53-abc2-4f66-b7b3-fc607fb0898e"
    },
    "slideshow": {
     "slide_type": "slide"
    }
   },
   "source": [
    "---\n",
    "# `PCA: Data Visualization`"
   ]
  },
  {
   "cell_type": "markdown",
   "metadata": {
    "nbpresent": {
     "id": "c8a2a763-471d-4a50-9dfe-c430c46b03d5"
    },
    "slideshow": {
     "slide_type": "slide"
    }
   },
   "source": [
    "## Scatter Plots of PC1 and PC2"
   ]
  },
  {
   "cell_type": "code",
   "execution_count": 40,
   "metadata": {
    "collapsed": false,
    "nbpresent": {
     "id": "da360784-a5d1-441a-96ff-676a86511f3c"
    },
    "slideshow": {
     "slide_type": "subslide"
    }
   },
   "outputs": [
    {
     "data": {
      "image/png": "[encoded data removed]",
      "text/plain": [
       "<matplotlib.figure.Figure at 0x117d80da0>"
      ]
     },
     "metadata": {},
     "output_type": "display_data"
    },
    {
     "data": {
      "image/png": "[encoded data removed]",
      "text/plain": [
       "<matplotlib.figure.Figure at 0x117d80d68>"
      ]
     },
     "metadata": {},
     "output_type": "display_data"
    }
   ],
   "source": [
    "fig = figsize(12, 4)\n",
    "fig, (ax1, ax2, ax3) = plt.subplots(1, 3)\n",
    "fig, (ax4, ax5, ax6) = plt.subplots(1, 3)\n",
    "\n",
    "# TBI No Dementia\n",
    "ax1.scatter(pca_TND[:,0], pca_TND[:,1], c='r')\n",
    "ax1.set_title('No Dementia\\n with TBI')\n",
    "ax1.set_xlabel('PC2')\n",
    "ax1.set_ylabel('PC1');\n",
    "\n",
    "# TBI Dementia\n",
    "ax2.scatter(pca_TD[:,0], pca_TD[:,1], c='r')\n",
    "ax2.set_title('Dementia\\n with TBI')\n",
    "ax2.set_xlabel('PC2')\n",
    "ax2.set_ylabel('PC1');\n",
    "\n",
    "# TBI Possible & Probable Alzheimer's\n",
    "ax3.scatter(pca_TPPA[:,0], pca_TPPA[:,1], c='r')\n",
    "ax3.set_title(\"Possible/Probable Alzheimer's\\n with TBI\")\n",
    "ax3.set_xlabel('PC2')\n",
    "ax3.set_ylabel('PC1');\n",
    "\n",
    "# W/o TBI No Dementia\n",
    "ax4.scatter(pca_ND[:,0], pca_ND[:,1])\n",
    "ax4.set_title('No Dementia\\n without TBI')\n",
    "ax4.set_xlabel('PC2')\n",
    "ax4.set_ylabel('PC1');\n",
    "\n",
    "# W/o TBI Dementia\n",
    "ax5.scatter(pca_D[:,0], pca_D[:,1])\n",
    "ax5.set_title('Dementia\\n without TBI')\n",
    "ax5.set_xlabel('PC2')\n",
    "ax5.set_ylabel('PC1');\n",
    "\n",
    "# W/o TBI Possible & Probable Alzheimer's\n",
    "ax6.scatter(pca_PPA[:,0], pca_PPA[:,1])\n",
    "ax6.set_title(\"Possible/Probable Alzheimer's\\n without TBI\")\n",
    "ax6.set_xlabel('PC2')\n",
    "ax6.set_ylabel('PC1');\n"
   ]
  },
  {
   "cell_type": "code",
   "execution_count": 71,
   "metadata": {
    "collapsed": false,
    "nbpresent": {
     "id": "9757aca7-a9e4-4c01-96cc-b924a2237ad7"
    },
    "scrolled": false,
    "slideshow": {
     "slide_type": "subslide"
    }
   },
   "outputs": [
    {
     "name": "stdout",
     "output_type": "stream",
     "text": [
      "WITH Traumatic Brain Injury: RED\n",
      "\n",
      "WITHOUT Traumatic Brain Injury: BLUE\n",
      "\n"
     ]
    },
    {
     "data": {
      "image/png": "[encoded data removed]",
      "text/plain": [
       "<matplotlib.figure.Figure at 0x11c2eb668>"
      ]
     },
     "metadata": {},
     "output_type": "display_data"
    }
   ],
   "source": [
    "fig = figsize(12, 5)\n",
    "fig, (ax1, ax2, ax3) = plt.subplots(1, 3)\n",
    "\n",
    "# TBI No Dementia\n",
    "ax1.scatter(pca_TND[:,0], pca_TND[:,1], c='r')\n",
    "ax1.scatter(pca_ND[:,0], pca_ND[:,1])\n",
    "ax1.set_title('No Dementia')\n",
    "ax1.set_xlabel('PC2')\n",
    "ax1.set_ylabel('PC1');\n",
    "\n",
    "# TBI Dementia\n",
    "ax2.scatter(pca_TD[:,0], pca_TD[:,1], c='r')\n",
    "ax2.scatter(pca_D[:,0], pca_D[:,1])\n",
    "ax2.set_title('Dementia')\n",
    "ax2.set_xlabel('PC2')\n",
    "ax2.set_ylabel('PC1');\n",
    "\n",
    "# TBI Possible & Probable Alzheimer's\n",
    "ax3.scatter(pca_TPPA[:,0], pca_TPPA[:,1], c='r')\n",
    "ax3.scatter(pca_PPA[:,0], pca_PPA[:,1])\n",
    "ax3.set_title(\"Possible/Probable Alzheimer's\")\n",
    "ax3.set_xlabel('PC2')\n",
    "ax3.set_ylabel('PC1');\n",
    "\n",
    "print('WITH Traumatic Brain Injury: RED', end='\\n\\n')\n",
    "print('WITHOUT Traumatic Brain Injury: BLUE', end='\\n\\n')"
   ]
  },
  {
   "cell_type": "markdown",
   "metadata": {
    "nbpresent": {
     "id": "c42df6a7-8b63-443e-8c74-2d50d91e3787"
    },
    "slideshow": {
     "slide_type": "slide"
    }
   },
   "source": [
    "---\n",
    "## `Explained Variance & Original Features`"
   ]
  },
  {
   "cell_type": "markdown",
   "metadata": {
    "nbpresent": {
     "id": "efe2cb83-935d-4eff-a6dc-d705883885e1"
    },
    "slideshow": {
     "slide_type": "slide"
    }
   },
   "source": [
    "## $$No\\ Dementia\\ with\\ TBI$$\n",
    "### `Explained Variance` "
   ]
  },
  {
   "cell_type": "code",
   "execution_count": 74,
   "metadata": {
    "collapsed": false,
    "nbpresent": {
     "id": "f85429b9-70cc-4c13-8acd-0de533ad17cf"
    },
    "slideshow": {
     "slide_type": "skip"
    }
   },
   "outputs": [],
   "source": [
    "### [PCA] TBI - No Dementia ###\n",
    "\n",
    "X = tbi_nd\n",
    "\n",
    "mu = tbi_nd.mean(axis=0)\n",
    "\n",
    "Z = X - mu\n",
    "\n",
    "V, S_tbi_nd, Vt = np.linalg.svd(Z)\n",
    "V_tbi_nd = Vt.T  # svd return transpose of V\n",
    "\n",
    "#Vr = V_tbi_nd[:,0:2]\n",
    "#print(S_tbi_nd, end='\\n\\n') # values\n",
    "#print(Vr) # vectors"
   ]
  },
  {
   "cell_type": "code",
   "execution_count": 112,
   "metadata": {
    "collapsed": false,
    "nbpresent": {
     "id": "3d919f30-e25f-42c7-af64-5523aabbec0f"
    },
    "scrolled": true,
    "slideshow": {
     "slide_type": "subslide"
    }
   },
   "outputs": [
    {
     "data": {
      "image/png": "[encoded data removed]",
      "text/plain": [
       "<matplotlib.figure.Figure at 0x11db29940>"
      ]
     },
     "metadata": {},
     "output_type": "display_data"
    }
   ],
   "source": [
    "total = sum(S_tbi_nd)\n",
    "var_exp = [(i / total)*100 for i in sorted(S_tbi_nd, reverse=True)]\n",
    "cum_var_exp = np.cumsum(var_exp)\n",
    "\n",
    "with plt.style.context('seaborn-whitegrid'):\n",
    "    plt.figure()\n",
    "\n",
    "    plt.bar(range(27), var_exp, alpha=0.5, align='center',\n",
    "            label='Individual explained variance')\n",
    "    plt.step(range(27), cum_var_exp, where='mid',\n",
    "             label='Cumulative explained variance')\n",
    "    plt.ylabel('Explained variance ratio')\n",
    "    plt.xlabel('Principal Components')\n",
    "    plt.ylim(ymax=110)\n",
    "    plt.legend(loc='best')\n",
    "    plt.tight_layout();"
   ]
  },
  {
   "cell_type": "markdown",
   "metadata": {},
   "source": [
    ">PC1 and PC2 accounts for about $65$% of the Cumulative explained variance\n",
    "\n",
    ">**Note**: `Charts are Zero-based` - $0$ on these barcharts represents $PC1$ and $1$ represents $PC2$"
   ]
  },
  {
   "cell_type": "markdown",
   "metadata": {
    "nbpresent": {
     "id": "e6778253-813e-4385-bbfe-31da6e21a5e4"
    },
    "slideshow": {
     "slide_type": "slide"
    }
   },
   "source": [
    "## $$No\\ Dementia\\ with\\ TBI$$\n",
    "### `Original Features`"
   ]
  },
  {
   "cell_type": "code",
   "execution_count": 76,
   "metadata": {
    "collapsed": true,
    "nbpresent": {
     "id": "ed40f78b-2fd1-49df-8853-f0a4de9116a7"
    },
    "slideshow": {
     "slide_type": "skip"
    }
   },
   "outputs": [],
   "source": [
    "features = ['ihc_a_syn', 'ihc_tau2_ffpe', 'ihc_at8_ffpe', \n",
    "            'ihc_at8', 'ihc_a_beta_ffpe', 'ihc_ptdp_43_ffpe', \n",
    "            'ihc_a_beta', 'ihc_iba1_ffpe', 'ihc_gfap_ffpe', \n",
    "            'ptau_ng_per_mg', 'vegf_pg_per_mg', 'tnf_a_pg_per_mg', \n",
    "            'tau_ng_per_mg', 'il_10_pg_per_mg', 'isoprostane_pg_per_mg', \n",
    "            'il_6_pg_per_mg', 'il_1b_pg_per_mg', 'il_4_pg_per_mg', \n",
    "            'rantes_pg_per_mg', 'ab40_pg_per_mg', 'a_syn_pg_per_mg', \n",
    "            'ifn_g_pg_per_mg', 'mcp_1_pg_per_mg', 'bdnf_pg_per_mg', \n",
    "            'mip_1a_pg_per_mg', 'il_7_pg_per_mg', 'ab42_pg_per_mg']"
   ]
  },
  {
   "cell_type": "code",
   "execution_count": 93,
   "metadata": {
    "collapsed": false,
    "nbpresent": {
     "id": "196739e3-efcb-459a-bb34-2e08e8e167c6"
    },
    "scrolled": false,
    "slideshow": {
     "slide_type": "slide"
    }
   },
   "outputs": [
    {
     "data": {
      "image/png": "[encoded data removed]",
      "text/plain": [
       "<matplotlib.figure.Figure at 0x11c237630>"
      ]
     },
     "metadata": {},
     "output_type": "display_data"
    }
   ],
   "source": [
    "fig = figsize(12, 5)\n",
    "fig, (ax1, ax2) = plt.subplots(1, 2)\n",
    "\n",
    "ax1.bar(range(27), abs(V_tbi_nd[:,0]), alpha=0.5, align='center')\n",
    "ax1.set_title('PC1')\n",
    "ax1.set_xticklabels(features, rotation=90)\n",
    "ax1.set_xticks(range(27));\n",
    "\n",
    "ax2.bar(range(27), abs(V_tbi_nd[:,1]), alpha=0.5, align='center')\n",
    "ax2.set_title('PC2')\n",
    "ax2.set_xticklabels(features, rotation=90)\n",
    "ax2.set_xticks(range(27));"
   ]
  },
  {
   "cell_type": "markdown",
   "metadata": {
    "nbpresent": {
     "id": "e9ddf055-bd5b-4e0e-b4e6-4480399e7d5f"
    },
    "slideshow": {
     "slide_type": "slide"
    }
   },
   "source": [
    ">### `No Dementia with TBI`  \n",
    ">### PC1 $->$  ab42_pg_per_mg\n",
    "\n",
    ">### PC2 $->$  ab40_pg_per_mg"
   ]
  },
  {
   "cell_type": "markdown",
   "metadata": {
    "nbpresent": {
     "id": "530d24a7-d896-4141-be76-85e179881231"
    },
    "slideshow": {
     "slide_type": "slide"
    }
   },
   "source": [
    "## $$Dementia\\ with\\ TBI$$\n",
    "### `Explained Variance` "
   ]
  },
  {
   "cell_type": "code",
   "execution_count": 94,
   "metadata": {
    "collapsed": false,
    "nbpresent": {
     "id": "e579b373-db44-4e7b-9f71-ee8b5b635cf1"
    },
    "slideshow": {
     "slide_type": "skip"
    }
   },
   "outputs": [],
   "source": [
    "### [PCA] TBI - Dementia ###\n",
    "X = tbi_d\n",
    "\n",
    "mu = tbi_d.mean(axis=0)\n",
    "\n",
    "Z = X - mu # np works this out automatically\n",
    "\n",
    "V, S_tbi_d, Vt = np.linalg.svd(Z)\n",
    "V_tbi_d = Vt.T  # svd return transpose of V\n",
    "\n",
    "#Vr = V_tbi_d[:,0:2]\n",
    "#print(S_tbi_d, end='\\n\\n') # values\n",
    "#print(Vr) # vectors"
   ]
  },
  {
   "cell_type": "code",
   "execution_count": 111,
   "metadata": {
    "collapsed": false,
    "nbpresent": {
     "id": "09feb56d-30d5-47d4-ad97-d47073a034da"
    },
    "scrolled": true,
    "slideshow": {
     "slide_type": "slide"
    }
   },
   "outputs": [
    {
     "data": {
      "image/png": "[encoded data removed]",
      "text/plain": [
       "<matplotlib.figure.Figure at 0x11e2c0d30>"
      ]
     },
     "metadata": {},
     "output_type": "display_data"
    }
   ],
   "source": [
    "total = sum(S_tbi_d)\n",
    "var_exp = [(i / total)*100 for i in sorted(S_tbi_d, reverse=True)]\n",
    "cum_var_exp = np.cumsum(var_exp)\n",
    "\n",
    "with plt.style.context('seaborn-whitegrid'):\n",
    "    plt.figure()\n",
    "\n",
    "    plt.bar(range(20), var_exp, alpha=0.5, align='center',\n",
    "            label='Individual explained variance')\n",
    "    plt.step(range(20), cum_var_exp, where='mid',\n",
    "             label='Cumulative explained variance')\n",
    "    plt.ylabel('Explained variance ratio')\n",
    "    plt.xlabel('Principal Components')\n",
    "    plt.ylim(ymax=110)\n",
    "    plt.legend(loc='best')\n",
    "    plt.tight_layout();"
   ]
  },
  {
   "cell_type": "markdown",
   "metadata": {},
   "source": [
    ">PC1 and PC2 accounts for a little over $75$% of the Cumulative explained variance\n",
    "\n",
    ">**Note**: _There is clear drop in the amount of principal components retrieve for this subdivided group. More research and exploration is needed to determine exactly what is causing this outcome._"
   ]
  },
  {
   "cell_type": "markdown",
   "metadata": {
    "nbpresent": {
     "id": "054fad22-bf64-4349-96cc-322b50871c88"
    },
    "slideshow": {
     "slide_type": "slide"
    }
   },
   "source": [
    "## $$Dementia\\ with\\ TBI$$\n",
    "### `Original Features`"
   ]
  },
  {
   "cell_type": "code",
   "execution_count": 120,
   "metadata": {
    "collapsed": false
   },
   "outputs": [
    {
     "data": {
      "image/png": "[encoded data removed]",
      "text/plain": [
       "<matplotlib.figure.Figure at 0x11c42bd30>"
      ]
     },
     "metadata": {},
     "output_type": "display_data"
    }
   ],
   "source": [
    "fig = figsize(12, 5)\n",
    "fig, (ax1, ax2) = plt.subplots(1, 2)\n",
    "\n",
    "ax1.bar(range(27), abs(V_tbi_d[:,0]), alpha=0.5, align='center')\n",
    "ax1.set_title('PC1')\n",
    "ax1.set_xticklabels(features, rotation=90)\n",
    "ax1.set_xticks(range(27));\n",
    "\n",
    "ax2.bar(range(27), abs(V_tbi_d[:,1]), alpha=0.5, align='center')\n",
    "ax2.set_title('PC2')\n",
    "ax2.set_xticklabels(features, rotation=90)\n",
    "ax2.set_xticks(range(27));"
   ]
  },
  {
   "cell_type": "markdown",
   "metadata": {},
   "source": [
    ">### `Dementia with TBI`  \n",
    ">### PC1 $->$  ab42_pg_per_mg\n",
    "\n",
    ">### PC2 $->$  rantes_pg_per_mg"
   ]
  },
  {
   "cell_type": "markdown",
   "metadata": {
    "nbpresent": {
     "id": "cbb37ef9-2533-482c-b05e-de890b501cca"
    },
    "slideshow": {
     "slide_type": "slide"
    }
   },
   "source": [
    "## $$Possible/Probable\\ Alzheimer's\\ with\\ TBI$$\n",
    "### `Explained Variance` "
   ]
  },
  {
   "cell_type": "code",
   "execution_count": 114,
   "metadata": {
    "collapsed": false,
    "nbpresent": {
     "id": "f5654b29-0307-44ed-a2c0-2fc259826337"
    },
    "slideshow": {
     "slide_type": "skip"
    }
   },
   "outputs": [],
   "source": [
    "### [PCA] TBI - Possible/Probable Alzheimer's ###\n",
    "\n",
    "X = tbi_ppa\n",
    "\n",
    "mu = tbi_ppa.mean(axis=0)\n",
    "\n",
    "Z = X - mu\n",
    "\n",
    "V, S_tbi_ppa, Vt = np.linalg.svd(Z)\n",
    "V_tbi_ppa = Vt.T  # svd return transpose of V\n",
    "\n",
    "#Vr = V[:,0:2]\n",
    "#print(S_tbi_ppa, end='\\n\\n') # values\n",
    "#print(Vr) # vectors"
   ]
  },
  {
   "cell_type": "code",
   "execution_count": 116,
   "metadata": {
    "collapsed": false,
    "nbpresent": {
     "id": "96580d71-1e14-412f-a632-812c9e32bc36"
    },
    "slideshow": {
     "slide_type": "slide"
    }
   },
   "outputs": [
    {
     "data": {
      "image/png": "[encoded data removed]",
      "text/plain": [
       "<matplotlib.figure.Figure at 0x11db63630>"
      ]
     },
     "metadata": {},
     "output_type": "display_data"
    }
   ],
   "source": [
    "total = sum(S_tbi_ppa)\n",
    "var_exp = [(i / total)*100 for i in sorted(S_tbi_ppa, reverse=True)]\n",
    "cum_var_exp = np.cumsum(var_exp)\n",
    "\n",
    "with plt.style.context('seaborn-whitegrid'):\n",
    "    plt.figure()\n",
    "\n",
    "    plt.bar(range(27), var_exp, alpha=0.5, align='center',\n",
    "            label='Individual explained variance')\n",
    "    plt.step(range(27), cum_var_exp, where='mid',\n",
    "             label='Cumulative explained variance')\n",
    "    plt.ylabel('Explained variance ratio')\n",
    "    plt.xlabel('Principal Components')\n",
    "    plt.ylim(ymax=110)\n",
    "    plt.legend(loc='best')\n",
    "    plt.tight_layout();"
   ]
  },
  {
   "cell_type": "markdown",
   "metadata": {},
   "source": [
    ">PC1 and PC2 accounts for a little under $75$% of the Cumulative explained variance"
   ]
  },
  {
   "cell_type": "markdown",
   "metadata": {
    "nbpresent": {
     "id": "3f1aaecc-a96d-474a-9a7e-8e395dc2fa4f"
    },
    "slideshow": {
     "slide_type": "slide"
    }
   },
   "source": [
    "## $$Possible/Probable\\ Alzheimer's\\ with\\ TBI$$\n",
    "### `Original Features`"
   ]
  },
  {
   "cell_type": "code",
   "execution_count": 117,
   "metadata": {
    "collapsed": false
   },
   "outputs": [
    {
     "data": {
      "image/png": "[encoded data removed]",
      "text/plain": [
       "<matplotlib.figure.Figure at 0x11d36ce10>"
      ]
     },
     "metadata": {},
     "output_type": "display_data"
    }
   ],
   "source": [
    "fig = figsize(12, 5)\n",
    "fig, (ax1, ax2) = plt.subplots(1, 2)\n",
    "\n",
    "ax1.bar(range(27), abs(V_tbi_ppa[:,0]), alpha=0.5, align='center')\n",
    "ax1.set_title('PC1')\n",
    "ax1.set_xticklabels(features, rotation=90)\n",
    "ax1.set_xticks(range(27));\n",
    "\n",
    "ax2.bar(range(27), abs(V_tbi_ppa[:,1]), alpha=0.5, align='center')\n",
    "ax2.set_title('PC2')\n",
    "ax2.set_xticklabels(features, rotation=90)\n",
    "ax2.set_xticks(range(27));"
   ]
  },
  {
   "cell_type": "markdown",
   "metadata": {},
   "source": [
    ">### `Possible/Probable Alzheimer's with TBI`  \n",
    ">### PC1 $->$  ab42_pg_per_mg\n",
    "\n",
    ">### PC2 $->$  ab40_pg_per_mg"
   ]
  },
  {
   "cell_type": "markdown",
   "metadata": {
    "nbpresent": {
     "id": "83349a8d-e06e-42a5-b353-505ad0fffeb1"
    },
    "slideshow": {
     "slide_type": "skip"
    }
   },
   "source": [
    "---\n",
    "## $$No\\ Dementia\\ [ without ]\\ TBI$$\n",
    "### `Explained Variance` "
   ]
  },
  {
   "cell_type": "code",
   "execution_count": 118,
   "metadata": {
    "collapsed": true,
    "nbpresent": {
     "id": "60f97142-9fd2-49c2-a5ab-4ab9c95c9b75"
    },
    "slideshow": {
     "slide_type": "skip"
    }
   },
   "outputs": [],
   "source": [
    "### [PCA] No Dementia ###\n",
    "\n",
    "X = wo_tbi_nd\n",
    "\n",
    "mu = wo_tbi_nd.mean(axis=0)\n",
    "\n",
    "Z = X - mu\n",
    "\n",
    "V, S_wo_tbi_nd, Vt = np.linalg.svd(Z)\n",
    "V_wo_tbi_nd = Vt.T  # svd return transpose of V\n",
    "\n",
    "#Vr = V_tbi_nd[:,0:2]\n",
    "#print(S_tbi_nd, end='\\n\\n') # values\n",
    "#print(Vr) # vectors"
   ]
  },
  {
   "cell_type": "code",
   "execution_count": 119,
   "metadata": {
    "collapsed": false
   },
   "outputs": [
    {
     "data": {
      "image/png": "[encoded data removed]",
      "text/plain": [
       "<matplotlib.figure.Figure at 0x11d7f0fd0>"
      ]
     },
     "metadata": {},
     "output_type": "display_data"
    }
   ],
   "source": [
    "total = sum(S_wo_tbi_nd)\n",
    "var_exp = [(i / total)*100 for i in sorted(S_wo_tbi_nd, reverse=True)]\n",
    "cum_var_exp = np.cumsum(var_exp)\n",
    "\n",
    "with plt.style.context('seaborn-whitegrid'):\n",
    "    plt.figure()\n",
    "\n",
    "    plt.bar(range(27), var_exp, alpha=0.5, align='center',\n",
    "            label='Individual explained variance')\n",
    "    plt.step(range(27), cum_var_exp, where='mid',\n",
    "             label='Cumulative explained variance')\n",
    "    plt.ylabel('Explained variance ratio')\n",
    "    plt.xlabel('Principal Components')\n",
    "    plt.ylim(ymax=110)\n",
    "    plt.legend(loc='best')\n",
    "    plt.tight_layout();"
   ]
  },
  {
   "cell_type": "markdown",
   "metadata": {},
   "source": [
    ">PC1 and PC2 accounts for about $75$% of the Cumulative explained variance"
   ]
  },
  {
   "cell_type": "markdown",
   "metadata": {},
   "source": [
    "## $$No\\ Dementia\\ [ without ]\\ TBI$$\n",
    "### `Original Features`"
   ]
  },
  {
   "cell_type": "code",
   "execution_count": 121,
   "metadata": {
    "collapsed": false,
    "scrolled": false
   },
   "outputs": [
    {
     "data": {
      "image/png": "[encoded data removed]",
      "text/plain": [
       "<matplotlib.figure.Figure at 0x11d6a1438>"
      ]
     },
     "metadata": {},
     "output_type": "display_data"
    }
   ],
   "source": [
    "fig = figsize(12, 5)\n",
    "fig, (ax1, ax2) = plt.subplots(1, 2)\n",
    "\n",
    "ax1.bar(range(27), abs(V_wo_tbi_nd[:,0]), alpha=0.5, align='center')\n",
    "ax1.set_title('PC1')\n",
    "ax1.set_xticklabels(features, rotation=90)\n",
    "ax1.set_xticks(range(27));\n",
    "\n",
    "ax2.bar(range(27), abs(V_wo_tbi_nd[:,1]), alpha=0.5, align='center')\n",
    "ax2.set_title('PC2')\n",
    "ax2.set_xticklabels(features, rotation=90)\n",
    "ax2.set_xticks(range(27));"
   ]
  },
  {
   "cell_type": "markdown",
   "metadata": {},
   "source": [
    ">### `No Dementia without TBI`  \n",
    ">### PC1 $->$  ab42_pg_per_mg\n",
    "\n",
    ">### PC2 $->$  ab40_pg_per_mg"
   ]
  },
  {
   "cell_type": "markdown",
   "metadata": {
    "nbpresent": {
     "id": "a006eac3-418f-4553-9cf0-79fc246920d1"
    },
    "slideshow": {
     "slide_type": "skip"
    }
   },
   "source": [
    "## $$Dementia\\ [ without ]\\  TBI$$\n",
    "### `Explained Variance`"
   ]
  },
  {
   "cell_type": "code",
   "execution_count": 132,
   "metadata": {
    "collapsed": false,
    "nbpresent": {
     "id": "f6ad80a9-a307-47ce-b538-59eb49faf2ee"
    },
    "slideshow": {
     "slide_type": "skip"
    }
   },
   "outputs": [],
   "source": [
    "\n",
    "X = wo_tbi_d\n",
    "\n",
    "mu = wo_tbi_d.mean(axis=0)\n",
    "\n",
    "Z = X - mu\n",
    "\n",
    "V, S_wo_tbi_d, Vt = np.linalg.svd(Z)\n",
    "V_wo_tbi_d = Vt.T  # svd return transpose of V\n",
    "\n",
    "#Vr = V_tbi_nd[:,0:2]\n",
    "#print(S_wo_tbi_d, end='\\n\\n') # values\n",
    "#print(Vr) # vectors"
   ]
  },
  {
   "cell_type": "code",
   "execution_count": 133,
   "metadata": {
    "collapsed": false
   },
   "outputs": [
    {
     "data": {
      "image/png": "[encoded data removed]",
      "text/plain": [
       "<matplotlib.figure.Figure at 0x10a6fd7b8>"
      ]
     },
     "metadata": {},
     "output_type": "display_data"
    }
   ],
   "source": [
    "total = sum(S_wo_tbi_d)\n",
    "var_exp = [(i / total)*100 for i in sorted(S_wo_tbi_d, reverse=True)]\n",
    "cum_var_exp = np.cumsum(var_exp)\n",
    "\n",
    "with plt.style.context('seaborn-whitegrid'):\n",
    "    plt.figure()\n",
    "\n",
    "    plt.bar(range(12), var_exp, alpha=0.5, align='center',\n",
    "            label='Individual explained variance')\n",
    "    plt.step(range(12), cum_var_exp, where='mid',\n",
    "             label='Cumulative explained variance')\n",
    "    plt.ylabel('Explained variance ratio')\n",
    "    plt.xlabel('Principal Components')\n",
    "    plt.ylim(ymax=110)\n",
    "    plt.legend(loc='best')\n",
    "    plt.tight_layout();"
   ]
  },
  {
   "cell_type": "markdown",
   "metadata": {},
   "source": [
    ">PC1 and PC2 accounts for about $78$% of the Cumulative explained variance\n",
    "\n",
    ">**Note**: _There is clear drop in the amount of principal components retrieve for this subdivided group. More research and exploration is needed to determine exactly what is causing this outcome. This effect was also seen in the with TBI and Dementia group._"
   ]
  },
  {
   "cell_type": "markdown",
   "metadata": {
    "nbpresent": {
     "id": "ae533558-0043-4715-af5c-2ec4a7e12d83"
    },
    "slideshow": {
     "slide_type": "skip"
    }
   },
   "source": [
    "## $$Dementia\\ [ without ]\\  TBI$$\n",
    "### `Original Features`"
   ]
  },
  {
   "cell_type": "code",
   "execution_count": 134,
   "metadata": {
    "collapsed": false,
    "scrolled": false
   },
   "outputs": [
    {
     "data": {
      "image/png": "[encoded data removed]",
      "text/plain": [
       "<matplotlib.figure.Figure at 0x11d37bef0>"
      ]
     },
     "metadata": {},
     "output_type": "display_data"
    }
   ],
   "source": [
    "fig = figsize(12, 5)\n",
    "fig, (ax1, ax2) = plt.subplots(1, 2)\n",
    "\n",
    "ax1.bar(range(27), abs(V_wo_tbi_d[:,0]), alpha=0.5, align='center')\n",
    "ax1.set_title('PC1')\n",
    "ax1.set_xticklabels(features, rotation=90)\n",
    "ax1.set_xticks(range(27));\n",
    "\n",
    "ax2.bar(range(27), abs(V_wo_tbi_d[:,1]), alpha=0.5, align='center')\n",
    "ax2.set_title('PC2')\n",
    "ax2.set_xticklabels(features, rotation=90)\n",
    "ax2.set_xticks(range(27));"
   ]
  },
  {
   "cell_type": "markdown",
   "metadata": {},
   "source": [
    ">### `Dementia without TBI`  \n",
    ">### PC1 $->$  ab42_pg_per_mg\n",
    "\n",
    ">### PC2 $->$  rantes_pg_per_mg"
   ]
  },
  {
   "cell_type": "markdown",
   "metadata": {
    "nbpresent": {
     "id": "49282f89-61de-4ffd-b0c6-ce9ce5cc27b8"
    },
    "slideshow": {
     "slide_type": "skip"
    }
   },
   "source": [
    "## $$Possible/Probable Alzheimer's\\ [ without ]\\ TBI$$\n",
    "### `Explained Variance`"
   ]
  },
  {
   "cell_type": "code",
   "execution_count": 135,
   "metadata": {
    "collapsed": true,
    "nbpresent": {
     "id": "cbaa77ef-224e-4fba-925c-ff4ade5bd61a"
    },
    "slideshow": {
     "slide_type": "skip"
    }
   },
   "outputs": [],
   "source": [
    "### [PCA] Possible/Probable Alzheimer's ###\n",
    "\n",
    "X = wo_tbi_ppa\n",
    "\n",
    "mu = wo_tbi_ppa.mean(axis=0)\n",
    "\n",
    "Z = X - mu\n",
    "\n",
    "V, S_wo_tbi_ppa, Vt = np.linalg.svd(Z)\n",
    "V_wo_tbi_ppa = Vt.T  # svd return transpose of V\n",
    "\n",
    "#Vr = V_tbi_nd[:,0:2]\n",
    "#print(S_wo_tbi_nd, end='\\n\\n') # values\n",
    "#print(Vr) # vectors"
   ]
  },
  {
   "cell_type": "code",
   "execution_count": 136,
   "metadata": {
    "collapsed": false
   },
   "outputs": [
    {
     "data": {
      "image/png": "[encoded data removed]",
      "text/plain": [
       "<matplotlib.figure.Figure at 0x11d6d4278>"
      ]
     },
     "metadata": {},
     "output_type": "display_data"
    }
   ],
   "source": [
    "total = sum(S_wo_tbi_ppa)\n",
    "var_exp = [(i / total)*100 for i in sorted(S_wo_tbi_ppa, reverse=True)]\n",
    "cum_var_exp = np.cumsum(var_exp)\n",
    "\n",
    "with plt.style.context('seaborn-whitegrid'):\n",
    "    plt.figure()\n",
    "\n",
    "    plt.bar(range(27), var_exp, alpha=0.5, align='center',\n",
    "            label='Individual explained variance')\n",
    "    plt.step(range(27), cum_var_exp, where='mid',\n",
    "             label='Cumulative explained variance')\n",
    "    plt.ylabel('Explained variance ratio')\n",
    "    plt.xlabel('Principal Components')\n",
    "    plt.ylim(ymax=110)\n",
    "    plt.legend(loc='best')\n",
    "    plt.tight_layout();"
   ]
  },
  {
   "cell_type": "markdown",
   "metadata": {},
   "source": [
    ">PC1 and PC2 accounts for about $62$% of the Cumulative explained variance"
   ]
  },
  {
   "cell_type": "markdown",
   "metadata": {
    "nbpresent": {
     "id": "a4f0b57b-55fd-4a6b-9282-25f7898876a9"
    },
    "slideshow": {
     "slide_type": "skip"
    }
   },
   "source": [
    "## $$Possible/Probable Alzheimer's\\ [ without ]\\ TBI$$\n",
    "### `Original Features`"
   ]
  },
  {
   "cell_type": "code",
   "execution_count": 137,
   "metadata": {
    "collapsed": false,
    "scrolled": false
   },
   "outputs": [
    {
     "data": {
      "image/png": "[encoded data removed]",
      "text/plain": [
       "<matplotlib.figure.Figure at 0x11d6fe128>"
      ]
     },
     "metadata": {},
     "output_type": "display_data"
    }
   ],
   "source": [
    "fig = figsize(12, 5)\n",
    "fig, (ax1, ax2) = plt.subplots(1, 2)\n",
    "\n",
    "ax1.bar(range(27), abs(V_wo_tbi_ppa[:,0]), alpha=0.5, align='center')\n",
    "ax1.set_title('PC1')\n",
    "ax1.set_xticklabels(features, rotation=90)\n",
    "ax1.set_xticks(range(27));\n",
    "\n",
    "ax2.bar(range(27), abs(V_wo_tbi_ppa[:,1]), alpha=0.5, align='center')\n",
    "ax2.set_title('PC2')\n",
    "ax2.set_xticklabels(features, rotation=90)\n",
    "ax2.set_xticks(range(27));"
   ]
  },
  {
   "cell_type": "markdown",
   "metadata": {},
   "source": [
    ">### `Possible/Probable Alzheimer's without TBI`  \n",
    ">### PC1 $->$  ab42_pg_per_mg\n",
    "\n",
    ">### PC2 $->$  ab40_pg_per_mg"
   ]
  },
  {
   "cell_type": "markdown",
   "metadata": {
    "nbpresent": {
     "id": "7f3c7e23-a3c3-4099-a30a-83ec72cf46c2"
    },
    "slideshow": {
     "slide_type": "slide"
    }
   },
   "source": [
    "---\n",
    "## $$Derive\\ Insights$$"
   ]
  },
  {
   "cell_type": "markdown",
   "metadata": {
    "collapsed": true,
    "nbpresent": {
     "id": "ec1159fc-703f-4c48-96e6-f204e641af69"
    },
    "slideshow": {
     "slide_type": "slide"
    }
   },
   "source": [
    "## `Interpret the Results`\n",
    "\n",
    "* A$\\beta$42 and A$\\beta$40 \n"
   ]
  },
  {
   "cell_type": "markdown",
   "metadata": {
    "nbpresent": {
     "id": "57f32d55-3f93-4034-af1a-539a6f21723d"
    }
   },
   "source": [
    "* Rantes"
   ]
  },
  {
   "cell_type": "markdown",
   "metadata": {},
   "source": [
    "|             | With TBI     |             | Without TBI  |             |\n",
    "| ----------  | -----------  | ----------- | ------------ | ----------- |\n",
    "|             |    PC1       |     PC2     |     PC1      |     PC2     |\n",
    "| No Dementia | $A \\beta 42$ |$A \\beta 40$ | $A \\beta 42$ |$A \\beta 40$ |\n",
    "| Dementia    | $A \\beta 42$ |   Rantes    | $A \\beta 42$ |   Rantes    |\n",
    "| Alzheimer's | $A \\beta 42$ |$A \\beta 40$ | $A \\beta 42$ |$A \\beta 40$ |"
   ]
  },
  {
   "cell_type": "markdown",
   "metadata": {
    "nbpresent": {
     "id": "4d0fc3e0-8ad4-4e28-9886-a839469f995b"
    },
    "slideshow": {
     "slide_type": "slide"
    }
   },
   "source": [
    "## `Personal Takeaways`\n",
    "\n",
    "**1.** EDA & Data Wrangling was the majority of the work\n",
    "\n",
    "**2.** Be an \"Active\" Learner, willingness to be wrong and learn more as needed"
   ]
  },
  {
   "cell_type": "markdown",
   "metadata": {
    "nbpresent": {
     "id": "621dce57-de04-41de-99c3-f27bbe452368"
    },
    "slideshow": {
     "slide_type": "slide"
    }
   },
   "source": [
    "## `Next Steps`\n",
    "\n",
    "**1.** Increase the Principal Components to **N=3** and account for more variance\n",
    "\n",
    "**2.** Investigate the phenomenon occurring in the PCs of _Dementia_ groups for both with TBI and without TBI. Does increasing to **N=3** make any difference?\n",
    "\n",
    "**3.** Perform PCA with the _Metadata and RNA-seq data_\n",
    "\n",
    "**4.** Perform Predictions on with TBI and without TBI groups to test accuracy between them "
   ]
  },
  {
   "cell_type": "code",
   "execution_count": null,
   "metadata": {
    "collapsed": true
   },
   "outputs": [],
   "source": []
  }
 ],
 "metadata": {
  "anaconda-cloud": {},
  "kernelspec": {
   "display_name": "Python [conda root]",
   "language": "python",
   "name": "conda-root-py"
  },
  "language_info": {
   "codemirror_mode": {
    "name": "ipython",
    "version": 3
   },
   "file_extension": ".py",
   "mimetype": "text/x-python",
   "name": "python",
   "nbconvert_exporter": "python",
   "pygments_lexer": "ipython3",
   "version": "3.5.2"
  },
  "nbpresent": {
   "slides": {
    "0013778d-7afc-429b-93a5-a91db2e74e30": {
     "id": "0013778d-7afc-429b-93a5-a91db2e74e30",
     "prev": "4d078858-b995-4d8e-9486-f4774be0264f",
     "regions": {
      "e5c8f53a-3514-4e79-9158-6eb971c88e98": {
       "attrs": {
        "height": 0.8,
        "width": 0.8,
        "x": 0.1,
        "y": 0.1
       },
       "content": {
        "cell": "45568f84-36a9-4b36-b7af-7b403224547e",
        "part": "whole"
       },
       "id": "e5c8f53a-3514-4e79-9158-6eb971c88e98"
      }
     }
    },
    "001f33b9-b6eb-460e-9e89-e06060e81202": {
     "id": "001f33b9-b6eb-460e-9e89-e06060e81202",
     "prev": "6cd28f51-f16d-4355-a7ba-0ff406500b61",
     "regions": {
      "639e72cf-17c0-46f5-b8a3-a31e2c6d027d": {
       "attrs": {
        "height": 0.8,
        "width": 0.8,
        "x": 0.1,
        "y": 0.1
       },
       "content": {
        "cell": "65886e15-eb4a-45f2-99d2-f832378c9424",
        "part": "whole"
       },
       "id": "639e72cf-17c0-46f5-b8a3-a31e2c6d027d"
      }
     }
    },
    "00472011-fc3b-404f-a459-855dd1a36fa8": {
     "id": "00472011-fc3b-404f-a459-855dd1a36fa8",
     "prev": "c7c70a21-19cc-4fe0-9c9f-27351f1e987d",
     "regions": {
      "0a1b7435-c2aa-4f76-962f-a45020b503be": {
       "attrs": {
        "height": 0.8,
        "width": 0.8,
        "x": 0.1,
        "y": 0.1
       },
       "content": {
        "cell": "5934b39a-4ebf-4c8b-9e89-a4380df770ea",
        "part": "whole"
       },
       "id": "0a1b7435-c2aa-4f76-962f-a45020b503be"
      }
     }
    },
    "020835b9-bb0a-4484-898d-38c709c9e24f": {
     "id": "020835b9-bb0a-4484-898d-38c709c9e24f",
     "prev": "f164903d-3cab-4b6b-912d-23852b3c8cec",
     "regions": {
      "22ed5a47-f772-4600-84aa-de7dbea94c84": {
       "attrs": {
        "height": 0.8,
        "width": 0.8,
        "x": 0.1,
        "y": 0.1
       },
       "content": {
        "cell": "b19737e6-be0d-4a03-ad84-d2ac4bb4864a",
        "part": "whole"
       },
       "id": "22ed5a47-f772-4600-84aa-de7dbea94c84"
      }
     }
    },
    "02ff20f4-a351-4be0-a3ec-8167d308615a": {
     "id": "02ff20f4-a351-4be0-a3ec-8167d308615a",
     "prev": "64b4a035-0add-48a9-8dd4-85bbb1501720",
     "regions": {
      "efded80c-5a97-4bb5-abd9-8dd7a2f0cccb": {
       "attrs": {
        "height": 0.8,
        "width": 0.8,
        "x": 0.1,
        "y": 0.1
       },
       "content": {
        "cell": "60f97142-9fd2-49c2-a5ab-4ab9c95c9b75",
        "part": "whole"
       },
       "id": "efded80c-5a97-4bb5-abd9-8dd7a2f0cccb"
      }
     }
    },
    "0590ecf4-9bf8-4047-b654-d8470db1c4d6": {
     "id": "0590ecf4-9bf8-4047-b654-d8470db1c4d6",
     "prev": "397673e3-a16a-4e12-bf2e-7fac7ab9a99e",
     "regions": {
      "c4876737-e845-4cea-afc9-8914c244c51f": {
       "attrs": {
        "height": 0.8,
        "width": 0.8,
        "x": 0.1,
        "y": 0.1
       },
       "content": {
        "cell": "c8a2a763-471d-4a50-9dfe-c430c46b03d5",
        "part": "whole"
       },
       "id": "c4876737-e845-4cea-afc9-8914c244c51f"
      }
     }
    },
    "0743d0c1-e3fa-47df-a8c1-660625765d85": {
     "id": "0743d0c1-e3fa-47df-a8c1-660625765d85",
     "prev": "ce3aebc7-2b02-41a9-8f0e-2f04e8684322",
     "regions": {
      "4dcb5dbd-0df9-4f42-915b-af291dea015f": {
       "attrs": {
        "height": 0.8,
        "width": 0.8,
        "x": 0.1,
        "y": 0.1
       },
       "content": {
        "cell": "777c80c1-bd15-4281-8f47-03b52148ff29",
        "part": "whole"
       },
       "id": "4dcb5dbd-0df9-4f42-915b-af291dea015f"
      }
     }
    },
    "084a1180-af79-42b9-bb60-c62d97a851d7": {
     "id": "084a1180-af79-42b9-bb60-c62d97a851d7",
     "prev": "2a922663-e333-4758-b881-598f8cb57055",
     "regions": {
      "74ac65d6-2d8d-4655-976d-46c26793bfce": {
       "attrs": {
        "height": 0.8,
        "width": 0.8,
        "x": 0.1,
        "y": 0.1
       },
       "content": {
        "cell": "49282f89-61de-4ffd-b0c6-ce9ce5cc27b8",
        "part": "whole"
       },
       "id": "74ac65d6-2d8d-4655-976d-46c26793bfce"
      }
     }
    },
    "08f9d485-a064-4c8c-800a-8a95ba84012e": {
     "id": "08f9d485-a064-4c8c-800a-8a95ba84012e",
     "prev": "15319639-2978-4f8a-9eb4-450bc0f84fa2",
     "regions": {
      "7742cb84-4b17-48bd-a357-554b83f262bc": {
       "attrs": {
        "height": 0.8,
        "width": 0.8,
        "x": 0.1,
        "y": 0.1
       },
       "content": {
        "cell": "ec1159fc-703f-4c48-96e6-f204e641af69",
        "part": "whole"
       },
       "id": "7742cb84-4b17-48bd-a357-554b83f262bc"
      }
     }
    },
    "09f10918-9390-4bb0-82ce-ab9b860f954f": {
     "id": "09f10918-9390-4bb0-82ce-ab9b860f954f",
     "prev": "2c0ab84c-6384-46aa-9733-9e8d034779d9",
     "regions": {
      "075df9e3-ca68-4272-a0a5-ddc16d86eacd": {
       "attrs": {
        "height": 0.8,
        "width": 0.8,
        "x": 0.1,
        "y": 0.1
       },
       "content": {
        "cell": "72420fd8-a1cc-4cec-a2af-d9d9414c0447",
        "part": "whole"
       },
       "id": "075df9e3-ca68-4272-a0a5-ddc16d86eacd"
      }
     }
    },
    "0a0f7687-047e-43e2-844f-c5b460fb90ac": {
     "id": "0a0f7687-047e-43e2-844f-c5b460fb90ac",
     "prev": "6d151a33-0ab3-40b0-9d6b-8aeae4c73f5f",
     "regions": {
      "82e4f2f3-3294-46ca-9b3d-5f3c76dfd9eb": {
       "attrs": {
        "height": 0.8,
        "width": 0.8,
        "x": 0.1,
        "y": 0.1
       },
       "content": {
        "cell": "b521de1f-f388-4bbd-beb2-ef8b5572e503",
        "part": "whole"
       },
       "id": "82e4f2f3-3294-46ca-9b3d-5f3c76dfd9eb"
      }
     }
    },
    "12ee5762-a784-4582-bebb-9a285678675e": {
     "id": "12ee5762-a784-4582-bebb-9a285678675e",
     "prev": "412525b6-bc4b-42b4-aaef-148d83f4e6db",
     "regions": {
      "467ff683-5694-4aa9-871b-86d4eb203cfc": {
       "attrs": {
        "height": 0.8,
        "width": 0.8,
        "x": 0.1,
        "y": 0.1
       },
       "content": {
        "cell": "d0e2629b-d3a6-4d00-9149-2e891fb52a5d",
        "part": "whole"
       },
       "id": "467ff683-5694-4aa9-871b-86d4eb203cfc"
      }
     }
    },
    "15319639-2978-4f8a-9eb4-450bc0f84fa2": {
     "id": "15319639-2978-4f8a-9eb4-450bc0f84fa2",
     "prev": "c1f8f580-ff99-4616-8cfe-ea49487a010a",
     "regions": {
      "68bdc01f-36a7-44ee-afa2-6a98f0a183fb": {
       "attrs": {
        "height": 0.8,
        "width": 0.8,
        "x": 0.1,
        "y": 0.1
       },
       "content": {
        "cell": "7f3c7e23-a3c3-4099-a30a-83ec72cf46c2",
        "part": "whole"
       },
       "id": "68bdc01f-36a7-44ee-afa2-6a98f0a183fb"
      }
     }
    },
    "153a9138-bb5d-48a1-b341-df83b1e9f63b": {
     "id": "153a9138-bb5d-48a1-b341-df83b1e9f63b",
     "prev": "08f9d485-a064-4c8c-800a-8a95ba84012e",
     "regions": {
      "79b9eddb-0784-49e0-8c22-4a4da4ba8e18": {
       "attrs": {
        "height": 0.8,
        "width": 0.8,
        "x": 0.1,
        "y": 0.1
       },
       "content": {
        "cell": "57f32d55-3f93-4034-af1a-539a6f21723d",
        "part": "whole"
       },
       "id": "79b9eddb-0784-49e0-8c22-4a4da4ba8e18"
      }
     }
    },
    "16f157b2-031e-4e89-a41e-215d02bf8644": {
     "id": "16f157b2-031e-4e89-a41e-215d02bf8644",
     "prev": "954760da-8a35-4755-8d73-b2daa1ef76a6",
     "regions": {
      "5b8d4045-341d-447b-856e-c527e4f567f8": {
       "attrs": {
        "height": 0.8,
        "width": 0.8,
        "x": 0.1,
        "y": 0.1
       },
       "content": {
        "cell": "3e0059b9-7821-4b77-883e-9b2b8600be17",
        "part": "whole"
       },
       "id": "5b8d4045-341d-447b-856e-c527e4f567f8"
      }
     }
    },
    "17ae727a-aeb1-4012-8c90-3b5cf134154a": {
     "id": "17ae727a-aeb1-4012-8c90-3b5cf134154a",
     "prev": "44956c04-38d3-474a-a80f-3cff2c25a538",
     "regions": {
      "cc854997-c39c-4a49-99ff-e6e1d890d5b9": {
       "attrs": {
        "height": 0.8,
        "width": 0.8,
        "x": 0.1,
        "y": 0.1
       },
       "content": {
        "cell": "7362592d-f1ec-4c7a-8c9c-6a8b0eb939b3",
        "part": "whole"
       },
       "id": "cc854997-c39c-4a49-99ff-e6e1d890d5b9"
      }
     }
    },
    "1fbb87e1-4901-4d2b-8a5f-b59eba7a4b2b": {
     "id": "1fbb87e1-4901-4d2b-8a5f-b59eba7a4b2b",
     "prev": "8584f1a5-98f8-4a59-9e41-4a22363bc218",
     "regions": {
      "2a506e3c-54bd-44b0-82e0-b8a7bc44c6a7": {
       "attrs": {
        "height": 0.8,
        "width": 0.8,
        "x": 0.1,
        "y": 0.1
       },
       "content": {
        "cell": "2370db97-11e8-4718-b44b-6698ea5cdceb",
        "part": "whole"
       },
       "id": "2a506e3c-54bd-44b0-82e0-b8a7bc44c6a7"
      }
     }
    },
    "20ec031b-bd7e-4985-b6a5-2841fbb6f105": {
     "id": "20ec031b-bd7e-4985-b6a5-2841fbb6f105",
     "prev": "f727cfae-af3f-49ad-8029-bbbeb802d521",
     "regions": {
      "3a423867-c444-4cd5-89d1-91d3d12c246d": {
       "attrs": {
        "height": 0.8,
        "width": 0.8,
        "x": 0.1,
        "y": 0.1
       },
       "content": {
        "cell": "956f9047-c408-42d0-b315-49f4ec25a18e",
        "part": "whole"
       },
       "id": "3a423867-c444-4cd5-89d1-91d3d12c246d"
      }
     }
    },
    "2a922663-e333-4758-b881-598f8cb57055": {
     "id": "2a922663-e333-4758-b881-598f8cb57055",
     "prev": "09f10918-9390-4bb0-82ce-ab9b860f954f",
     "regions": {
      "ee168525-c37b-495c-9522-68043808f5ee": {
       "attrs": {
        "height": 0.8,
        "width": 0.8,
        "x": 0.1,
        "y": 0.1
       },
       "content": {
        "cell": "bfad76b8-584d-4a01-9b02-b17d324226fc",
        "part": "whole"
       },
       "id": "ee168525-c37b-495c-9522-68043808f5ee"
      }
     }
    },
    "2c0ab84c-6384-46aa-9733-9e8d034779d9": {
     "id": "2c0ab84c-6384-46aa-9733-9e8d034779d9",
     "prev": "c61ff58a-e598-4d3d-b8f6-0638f286bb13",
     "regions": {
      "9b33c828-62c6-48d3-b8c0-5c225e3c2441": {
       "attrs": {
        "height": 0.8,
        "width": 0.8,
        "x": 0.1,
        "y": 0.1
       },
       "content": {
        "cell": "4cdf917b-58fc-45ea-9932-2d7ae66b421d",
        "part": "whole"
       },
       "id": "9b33c828-62c6-48d3-b8c0-5c225e3c2441"
      }
     }
    },
    "353573c9-cfad-42ab-8e48-6d86404266c4": {
     "id": "353573c9-cfad-42ab-8e48-6d86404266c4",
     "prev": "82b1900d-4e8f-4dda-bb3a-05f357b698f5",
     "regions": {
      "305d4302-7684-46e5-9de2-774cffe20727": {
       "attrs": {
        "height": 0.8,
        "width": 0.8,
        "x": 0.1,
        "y": 0.1
       },
       "content": {
        "cell": "7c8f596e-d34b-4fba-8427-f6a694fd93ad",
        "part": "whole"
       },
       "id": "305d4302-7684-46e5-9de2-774cffe20727"
      }
     }
    },
    "38240981-1992-4fa1-80e9-c4b7d3e4e4ae": {
     "id": "38240981-1992-4fa1-80e9-c4b7d3e4e4ae",
     "prev": "0590ecf4-9bf8-4047-b654-d8470db1c4d6",
     "regions": {
      "57b68e46-71fa-4c8b-b109-0d9fa9a59e16": {
       "attrs": {
        "height": 0.8,
        "width": 0.8,
        "x": 0.1,
        "y": 0.1
       },
       "content": {
        "cell": "da360784-a5d1-441a-96ff-676a86511f3c",
        "part": "whole"
       },
       "id": "57b68e46-71fa-4c8b-b109-0d9fa9a59e16"
      }
     }
    },
    "397673e3-a16a-4e12-bf2e-7fac7ab9a99e": {
     "id": "397673e3-a16a-4e12-bf2e-7fac7ab9a99e",
     "prev": "1fbb87e1-4901-4d2b-8a5f-b59eba7a4b2b",
     "regions": {
      "02ca93fc-92ae-421f-8042-f8a6d0ccc569": {
       "attrs": {
        "height": 0.8,
        "width": 0.8,
        "x": 0.1,
        "y": 0.1
       },
       "content": {
        "cell": "24a3ad53-abc2-4f66-b7b3-fc607fb0898e",
        "part": "whole"
       },
       "id": "02ca93fc-92ae-421f-8042-f8a6d0ccc569"
      }
     }
    },
    "39f50c40-569a-4999-943e-53b491a789d6": {
     "id": "39f50c40-569a-4999-943e-53b491a789d6",
     "prev": "a1be80b9-3ce7-4849-a69f-45b134162653",
     "regions": {
      "c69e81e7-7e7d-414c-88a1-57e35f628b00": {
       "attrs": {
        "height": 0.8,
        "width": 0.8,
        "x": 0.1,
        "y": 0.1
       },
       "content": {
        "cell": "592158f1-0388-4f92-8151-c33aae833480",
        "part": "whole"
       },
       "id": "c69e81e7-7e7d-414c-88a1-57e35f628b00"
      }
     }
    },
    "3a400684-cc5a-456b-b3f2-172d91d33d2a": {
     "id": "3a400684-cc5a-456b-b3f2-172d91d33d2a",
     "prev": "db475afb-60c9-4473-9151-3bc946034d7d",
     "regions": {
      "3cf81e83-e94b-4787-bc20-0633a4d86667": {
       "attrs": {
        "height": 0.8,
        "width": 0.8,
        "x": 0.1,
        "y": 0.1
       },
       "content": {
        "cell": "ee41fa4a-2791-432b-b23d-56847cbb6a98",
        "part": "whole"
       },
       "id": "3cf81e83-e94b-4787-bc20-0633a4d86667"
      }
     }
    },
    "3b197c16-0f4f-485b-b36f-8fcc44e3c303": {
     "id": "3b197c16-0f4f-485b-b36f-8fcc44e3c303",
     "prev": "001f33b9-b6eb-460e-9e89-e06060e81202",
     "regions": {
      "a58047dc-5b78-494e-bde7-0bb84015dc01": {
       "attrs": {
        "height": 0.8,
        "width": 0.8,
        "x": 0.1,
        "y": 0.1
       },
       "content": {
        "cell": "ecd09c54-76f4-445c-bf71-065f39e7a2df",
        "part": "whole"
       },
       "id": "a58047dc-5b78-494e-bde7-0bb84015dc01"
      }
     }
    },
    "3b5e4316-0582-422d-986b-0383158144da": {
     "id": "3b5e4316-0582-422d-986b-0383158144da",
     "prev": "0013778d-7afc-429b-93a5-a91db2e74e30",
     "regions": {
      "d68f8fc9-4508-4317-86c2-7b587124dd46": {
       "attrs": {
        "height": 0.8,
        "width": 0.8,
        "x": 0.1,
        "y": 0.1
       },
       "content": {
        "cell": "bd5fd4b8-6cd0-4589-b555-4baf23f6eea9",
        "part": "whole"
       },
       "id": "d68f8fc9-4508-4317-86c2-7b587124dd46"
      }
     }
    },
    "412525b6-bc4b-42b4-aaef-148d83f4e6db": {
     "id": "412525b6-bc4b-42b4-aaef-148d83f4e6db",
     "prev": "3a400684-cc5a-456b-b3f2-172d91d33d2a",
     "regions": {
      "46ecf129-9d0a-416b-8226-3ea1475be813": {
       "attrs": {
        "height": 0.8,
        "width": 0.8,
        "x": 0.1,
        "y": 0.1
       },
       "content": {
        "cell": "a22e2625-7532-4e77-afcb-122b705626b0",
        "part": "whole"
       },
       "id": "46ecf129-9d0a-416b-8226-3ea1475be813"
      }
     }
    },
    "4158e6cb-0977-4d43-86cb-99306b7bd86f": {
     "id": "4158e6cb-0977-4d43-86cb-99306b7bd86f",
     "prev": "85e28075-a92f-41f0-9e28-935adc6af66d",
     "regions": {
      "c5a4e244-834b-42d0-8383-dabf757eb7b1": {
       "attrs": {
        "height": 0.8,
        "width": 0.8,
        "x": 0.1,
        "y": 0.1
       },
       "content": {
        "cell": "f6ad80a9-a307-47ce-b538-59eb49faf2ee",
        "part": "whole"
       },
       "id": "c5a4e244-834b-42d0-8383-dabf757eb7b1"
      }
     }
    },
    "44956c04-38d3-474a-a80f-3cff2c25a538": {
     "id": "44956c04-38d3-474a-a80f-3cff2c25a538",
     "prev": "d2b8fb53-9d55-4064-a374-b39d63b31729",
     "regions": {
      "645c1600-75c1-4d9a-8acf-fde0f57b2384": {
       "attrs": {
        "height": 0.8,
        "width": 0.8,
        "x": 0.1,
        "y": 0.1
       },
       "content": {
        "cell": "bc735476-2535-4508-8e14-40624a7282e7",
        "part": "whole"
       },
       "id": "645c1600-75c1-4d9a-8acf-fde0f57b2384"
      }
     }
    },
    "4a123bfa-1852-45cb-be67-9df441729527": {
     "id": "4a123bfa-1852-45cb-be67-9df441729527",
     "prev": "17ae727a-aeb1-4012-8c90-3b5cf134154a",
     "regions": {
      "bcad7dd6-cad5-4f32-bf0d-4fb5bf5e801a": {
       "attrs": {
        "height": 0.8,
        "width": 0.8,
        "x": 0.1,
        "y": 0.1
       },
       "content": {
        "cell": "06453640-4bb3-4064-8aca-46dd34215431",
        "part": "whole"
       },
       "id": "bcad7dd6-cad5-4f32-bf0d-4fb5bf5e801a"
      }
     }
    },
    "4ab63dd7-1130-40d0-9431-88507476ec52": {
     "id": "4ab63dd7-1130-40d0-9431-88507476ec52",
     "prev": "9471f669-81fa-4169-a831-f9ef7ccdb949",
     "regions": {
      "2ef0bd4a-c91e-4ac3-8939-b85aa93636b7": {
       "attrs": {
        "height": 0.8,
        "width": 0.8,
        "x": 0.1,
        "y": 0.1
       },
       "content": {
        "cell": "3f1aaecc-a96d-474a-9a7e-8e395dc2fa4f",
        "part": "whole"
       },
       "id": "2ef0bd4a-c91e-4ac3-8939-b85aa93636b7"
      }
     }
    },
    "4d078858-b995-4d8e-9486-f4774be0264f": {
     "id": "4d078858-b995-4d8e-9486-f4774be0264f",
     "prev": "e1227926-8b9e-448b-bda5-f1a85f3fefdf",
     "regions": {
      "37051611-285c-457b-b206-983d651228e5": {
       "attrs": {
        "height": 0.8,
        "width": 0.8,
        "x": 0.1,
        "y": 0.1
       },
       "content": {
        "cell": "bc2e648e-7e0d-48b5-bc62-b8f82a393ec0",
        "part": "whole"
       },
       "id": "37051611-285c-457b-b206-983d651228e5"
      }
     }
    },
    "51fa0a69-62f9-40ff-86bb-2c8336d49240": {
     "id": "51fa0a69-62f9-40ff-86bb-2c8336d49240",
     "prev": "7a61c353-2c3f-4a4f-9539-7b03856fc237",
     "regions": {
      "a18e0eaf-ff11-46af-9fb1-c5397cc5522b": {
       "attrs": {
        "height": 0.8,
        "width": 0.8,
        "x": 0.1,
        "y": 0.1
       },
       "content": {
        "cell": "dd67c088-0706-4f42-8fde-ee0310ddbfa7",
        "part": "whole"
       },
       "id": "a18e0eaf-ff11-46af-9fb1-c5397cc5522b"
      }
     }
    },
    "53979177-de18-4f7b-a775-28e79eef93f3": {
     "id": "53979177-de18-4f7b-a775-28e79eef93f3",
     "prev": "6e8fadd0-a934-4633-9eeb-d1641231fd4c",
     "regions": {
      "f6da6379-dd7c-475a-89f3-4493625aec7e": {
       "attrs": {
        "height": 0.8,
        "width": 0.8,
        "x": 0.1,
        "y": 0.1
       },
       "content": {
        "cell": "4f453a14-7d97-4ae6-8a30-26df01a2210d",
        "part": "whole"
       },
       "id": "f6da6379-dd7c-475a-89f3-4493625aec7e"
      }
     }
    },
    "57c82b89-95f2-4069-8540-382782415fef": {
     "id": "57c82b89-95f2-4069-8540-382782415fef",
     "prev": "3b5e4316-0582-422d-986b-0383158144da",
     "regions": {
      "5f864729-8a83-4a6b-b36c-34e18e730f84": {
       "attrs": {
        "height": 0.8,
        "width": 0.8,
        "x": 0.1,
        "y": 0.1
       },
       "content": {
        "cell": "27ddf460-8368-4613-8edf-500195a94d7a",
        "part": "whole"
       },
       "id": "5f864729-8a83-4a6b-b36c-34e18e730f84"
      }
     }
    },
    "589335dc-b677-4828-8cb1-8a2d35e01628": {
     "id": "589335dc-b677-4828-8cb1-8a2d35e01628",
     "prev": "cfa905c3-9457-4add-bcb6-e16498dab082",
     "regions": {
      "f95202c8-85bd-434d-a207-d46f5e791d53": {
       "attrs": {
        "height": 0.8,
        "width": 0.8,
        "x": 0.1,
        "y": 0.1
       },
       "content": {
        "cell": "e6778253-813e-4385-bbfe-31da6e21a5e4",
        "part": "whole"
       },
       "id": "f95202c8-85bd-434d-a207-d46f5e791d53"
      }
     }
    },
    "5ca3346f-1784-478f-8843-b2b94007eb18": {
     "id": "5ca3346f-1784-478f-8843-b2b94007eb18",
     "prev": "61da72de-764d-4be8-9398-95ec757b36d0",
     "regions": {
      "e0018c8c-1c62-4ad7-b5a6-6c30e67fab3b": {
       "attrs": {
        "height": 0.8,
        "width": 0.8,
        "x": 0.1,
        "y": 0.1
       },
       "content": {
        "cell": "cd0b1804-1306-4c61-97b2-3d6081eee5ca",
        "part": "whole"
       },
       "id": "e0018c8c-1c62-4ad7-b5a6-6c30e67fab3b"
      }
     }
    },
    "61da72de-764d-4be8-9398-95ec757b36d0": {
     "id": "61da72de-764d-4be8-9398-95ec757b36d0",
     "prev": "7097f5f1-c931-4233-8097-56021455b512",
     "regions": {
      "57337b8b-f275-42f3-8b07-63c828468f90": {
       "attrs": {
        "height": 0.8,
        "width": 0.8,
        "x": 0.1,
        "y": 0.1
       },
       "content": {
        "cell": "9c52960a-e5f5-46f4-bed4-bc9eb0e50973",
        "part": "whole"
       },
       "id": "57337b8b-f275-42f3-8b07-63c828468f90"
      }
     }
    },
    "64b4a035-0add-48a9-8dd4-85bbb1501720": {
     "id": "64b4a035-0add-48a9-8dd4-85bbb1501720",
     "prev": "0743d0c1-e3fa-47df-a8c1-660625765d85",
     "regions": {
      "3abe634a-4c49-4144-be33-d411fd9f517c": {
       "attrs": {
        "height": 0.8,
        "width": 0.8,
        "x": 0.1,
        "y": 0.1
       },
       "content": {
        "cell": "83349a8d-e06e-42a5-b353-505ad0fffeb1",
        "part": "whole"
       },
       "id": "3abe634a-4c49-4144-be33-d411fd9f517c"
      }
     }
    },
    "693925af-c89f-4c97-ba54-f6e8c491e443": {
     "id": "693925af-c89f-4c97-ba54-f6e8c491e443",
     "prev": "4158e6cb-0977-4d43-86cb-99306b7bd86f",
     "regions": {
      "778755fb-fa87-4fcd-9587-8277874c8607": {
       "attrs": {
        "height": 0.8,
        "width": 0.8,
        "x": 0.1,
        "y": 0.1
       },
       "content": {
        "cell": "ae533558-0043-4715-af5c-2ec4a7e12d83",
        "part": "whole"
       },
       "id": "778755fb-fa87-4fcd-9587-8277874c8607"
      }
     }
    },
    "6a949751-7fa0-4c9c-94ec-d0f946b24077": {
     "id": "6a949751-7fa0-4c9c-94ec-d0f946b24077",
     "prev": "aa294ee0-a246-405d-916f-fb16b4b2b399",
     "regions": {
      "54d54490-1d57-4dc1-8f1d-626ecf1e98b3": {
       "attrs": {
        "height": 0.8,
        "width": 0.8,
        "x": 0.1,
        "y": 0.1
       },
       "content": {
        "cell": "3f1162a6-df4b-4070-81c0-99a3de67dcf1",
        "part": "whole"
       },
       "id": "54d54490-1d57-4dc1-8f1d-626ecf1e98b3"
      }
     }
    },
    "6c2558ac-314d-4bdf-aac7-bfb5189ca75c": {
     "id": "6c2558ac-314d-4bdf-aac7-bfb5189ca75c",
     "prev": "51fa0a69-62f9-40ff-86bb-2c8336d49240",
     "regions": {
      "80e97665-07f8-438d-867c-13522fa28ddf": {
       "attrs": {
        "height": 0.8,
        "width": 0.8,
        "x": 0.1,
        "y": 0.1
       },
       "content": {
        "cell": "3bc52cfc-3c78-47cd-a3af-acf1b7507f29",
        "part": "whole"
       },
       "id": "80e97665-07f8-438d-867c-13522fa28ddf"
      }
     }
    },
    "6cd28f51-f16d-4355-a7ba-0ff406500b61": {
     "id": "6cd28f51-f16d-4355-a7ba-0ff406500b61",
     "prev": "57c82b89-95f2-4069-8540-382782415fef",
     "regions": {
      "66637342-f846-432b-8e66-f11856640aad": {
       "attrs": {
        "height": 0.8,
        "width": 0.8,
        "x": 0.1,
        "y": 0.1
       },
       "content": {
        "cell": "92d67f72-5c8f-4653-aac9-ae3dbf8a06ef",
        "part": "whole"
       },
       "id": "66637342-f846-432b-8e66-f11856640aad"
      }
     }
    },
    "6d151a33-0ab3-40b0-9d6b-8aeae4c73f5f": {
     "id": "6d151a33-0ab3-40b0-9d6b-8aeae4c73f5f",
     "prev": "5ca3346f-1784-478f-8843-b2b94007eb18",
     "regions": {
      "73e9807a-6f00-4bc4-948b-1195c1520842": {
       "attrs": {
        "height": 0.8,
        "width": 0.8,
        "x": 0.1,
        "y": 0.1
       },
       "content": {
        "cell": "5fa7a5e0-687a-40ca-8cd3-0477a91b7ab3",
        "part": "whole"
       },
       "id": "73e9807a-6f00-4bc4-948b-1195c1520842"
      }
     }
    },
    "6e8fadd0-a934-4633-9eeb-d1641231fd4c": {
     "id": "6e8fadd0-a934-4633-9eeb-d1641231fd4c",
     "prev": "4a123bfa-1852-45cb-be67-9df441729527",
     "regions": {
      "62f50da2-390b-48bc-870e-16d36032ef1d": {
       "attrs": {
        "height": 0.8,
        "width": 0.8,
        "x": 0.1,
        "y": 0.1
       },
       "content": {
        "cell": "3eccc609-c268-4474-9a03-dfadbc5bd5b1",
        "part": "whole"
       },
       "id": "62f50da2-390b-48bc-870e-16d36032ef1d"
      }
     }
    },
    "7097f5f1-c931-4233-8097-56021455b512": {
     "id": "7097f5f1-c931-4233-8097-56021455b512",
     "prev": "a7f26534-82be-4872-ad95-de199cb38dc9",
     "regions": {
      "47979742-c736-4877-9eaa-590abdb6d300": {
       "attrs": {
        "height": 0.8,
        "width": 0.8,
        "x": 0.1,
        "y": 0.1
       },
       "content": {
        "cell": "b758992c-5ee5-48fd-9460-9047fa37ccbc",
        "part": "whole"
       },
       "id": "47979742-c736-4877-9eaa-590abdb6d300"
      }
     }
    },
    "73077f2e-7f92-4172-8e1c-bc266cb1eaae": {
     "id": "73077f2e-7f92-4172-8e1c-bc266cb1eaae",
     "prev": "910800c6-3640-42e1-b9c7-2d0094bcf2f5",
     "regions": {
      "a2ec529f-5563-407f-b53a-2d5e852b3553": {
       "attrs": {
        "height": 0.8,
        "width": 0.8,
        "x": 0.1,
        "y": 0.1
       },
       "content": {
        "cell": "cbb37ef9-2533-482c-b05e-de890b501cca",
        "part": "whole"
       },
       "id": "a2ec529f-5563-407f-b53a-2d5e852b3553"
      }
     }
    },
    "735d893a-482b-48b2-8e78-bbc740feb72e": {
     "id": "735d893a-482b-48b2-8e78-bbc740feb72e",
     "prev": "813e9be2-24a9-4740-b965-f909b22bcbbb",
     "regions": {
      "34056acc-6ec4-4a65-bb15-a521f4ae09b4": {
       "attrs": {
        "height": 0.8,
        "width": 0.8,
        "x": 0.1,
        "y": 0.1
       },
       "content": {
        "cell": "c42df6a7-8b63-443e-8c74-2d50d91e3787",
        "part": "whole"
       },
       "id": "34056acc-6ec4-4a65-bb15-a521f4ae09b4"
      }
     }
    },
    "7a030aa8-095a-495e-9511-b64cd3179b25": {
     "id": "7a030aa8-095a-495e-9511-b64cd3179b25",
     "prev": "12ee5762-a784-4582-bebb-9a285678675e",
     "regions": {
      "b723a414-2e77-4650-8165-27be9568577c": {
       "attrs": {
        "height": 0.8,
        "width": 0.8,
        "x": 0.1,
        "y": 0.1
       },
       "content": {
        "cell": "1554bd82-4788-4667-9ee5-380032e819d2",
        "part": "whole"
       },
       "id": "b723a414-2e77-4650-8165-27be9568577c"
      }
     }
    },
    "7a61c353-2c3f-4a4f-9539-7b03856fc237": {
     "id": "7a61c353-2c3f-4a4f-9539-7b03856fc237",
     "prev": "b0a27dff-69b0-4d75-8ad9-100b8348ee11",
     "regions": {
      "e0d4ed08-e40b-4153-abcf-3f64d0c1e424": {
       "attrs": {
        "height": 0.8,
        "width": 0.8,
        "x": 0.1,
        "y": 0.1
       },
       "content": {
        "cell": "274a7c26-2bbc-4df5-a5a6-78a75331520d",
        "part": "whole"
       },
       "id": "e0d4ed08-e40b-4153-abcf-3f64d0c1e424"
      }
     }
    },
    "813e9be2-24a9-4740-b965-f909b22bcbbb": {
     "id": "813e9be2-24a9-4740-b965-f909b22bcbbb",
     "prev": "cca02261-99e8-4757-a320-8ccea85f48e1",
     "regions": {
      "b864d042-09d3-4252-8dfc-dec479ff542f": {
       "attrs": {
        "height": 0.8,
        "width": 0.8,
        "x": 0.1,
        "y": 0.1
       },
       "content": {
        "cell": "11ada8ae-1881-4b41-813a-60b9c667f4bb",
        "part": "whole"
       },
       "id": "b864d042-09d3-4252-8dfc-dec479ff542f"
      }
     }
    },
    "81873625-4539-4e0e-af2f-b040beb99424": {
     "id": "81873625-4539-4e0e-af2f-b040beb99424",
     "prev": "e80f32e2-2106-4af7-8b42-67d1e2f46e59",
     "regions": {
      "646e4ef8-e3cb-4f43-844a-495b4d6124c1": {
       "attrs": {
        "height": 0.8,
        "width": 0.8,
        "x": 0.1,
        "y": 0.1
       },
       "content": {
        "cell": "aac3b2b5-ecc9-4dd3-bad7-d4da0dfc725e",
        "part": "whole"
       },
       "id": "646e4ef8-e3cb-4f43-844a-495b4d6124c1"
      }
     }
    },
    "821a27f5-3248-4688-9ac0-bdbfe1399f68": {
     "id": "821a27f5-3248-4688-9ac0-bdbfe1399f68",
     "prev": "084a1180-af79-42b9-bb60-c62d97a851d7",
     "regions": {
      "6b14cdf9-5fe2-4e2e-b46d-ca73bf067cad": {
       "attrs": {
        "height": 0.8,
        "width": 0.8,
        "x": 0.1,
        "y": 0.1
       },
       "content": {
        "cell": "cbaa77ef-224e-4fba-925c-ff4ade5bd61a",
        "part": "whole"
       },
       "id": "6b14cdf9-5fe2-4e2e-b46d-ca73bf067cad"
      }
     }
    },
    "82b1900d-4e8f-4dda-bb3a-05f357b698f5": {
     "id": "82b1900d-4e8f-4dda-bb3a-05f357b698f5",
     "prev": "c4e3aea1-7048-49a9-83f6-393c1f2ac65e",
     "regions": {
      "3ecc5be6-e2dd-41bf-802d-9c9cd6bc29b6": {
       "attrs": {
        "height": 0.8,
        "width": 0.8,
        "x": 0.1,
        "y": 0.1
       },
       "content": {
        "cell": "3adbd669-0a0e-4cd3-a717-4f0cd9e34b13",
        "part": "whole"
       },
       "id": "3ecc5be6-e2dd-41bf-802d-9c9cd6bc29b6"
      }
     }
    },
    "8584f1a5-98f8-4a59-9e41-4a22363bc218": {
     "id": "8584f1a5-98f8-4a59-9e41-4a22363bc218",
     "prev": "353573c9-cfad-42ab-8e48-6d86404266c4",
     "regions": {
      "b3cdb4db-5462-4ac7-94c9-1e200479e0df": {
       "attrs": {
        "height": 0.8,
        "width": 0.8,
        "x": 0.1,
        "y": 0.1
       },
       "content": {
        "cell": "9a7f8307-6bde-4d8c-93a6-491f91626150",
        "part": "whole"
       },
       "id": "b3cdb4db-5462-4ac7-94c9-1e200479e0df"
      }
     }
    },
    "85e28075-a92f-41f0-9e28-935adc6af66d": {
     "id": "85e28075-a92f-41f0-9e28-935adc6af66d",
     "prev": "16f157b2-031e-4e89-a41e-215d02bf8644",
     "regions": {
      "c50c34dd-8512-4f4d-ba25-e90d625b0597": {
       "attrs": {
        "height": 0.8,
        "width": 0.8,
        "x": 0.1,
        "y": 0.1
       },
       "content": {
        "cell": "a006eac3-418f-4553-9cf0-79fc246920d1",
        "part": "whole"
       },
       "id": "c50c34dd-8512-4f4d-ba25-e90d625b0597"
      }
     }
    },
    "8ad321f4-4840-4117-bd7d-1f35c57eb41e": {
     "id": "8ad321f4-4840-4117-bd7d-1f35c57eb41e",
     "prev": "b81ac5e6-4839-4dde-a645-595a08133276",
     "regions": {
      "b4ad3955-5cbf-4651-b34b-e2b0aff3e5cb": {
       "attrs": {
        "height": 0.8,
        "width": 0.8,
        "x": 0.1,
        "y": 0.1
       },
       "content": {
        "cell": "71548ee6-a86b-47aa-a29b-19f424577184",
        "part": "whole"
       },
       "id": "b4ad3955-5cbf-4651-b34b-e2b0aff3e5cb"
      }
     }
    },
    "8dfe7e40-6180-4386-abff-385d355f8016": {
     "id": "8dfe7e40-6180-4386-abff-385d355f8016",
     "prev": "d3ec7389-6e44-4e88-8b96-ac248119ff71",
     "regions": {
      "4334cb9a-a806-4bd8-b56d-2628a77a8902": {
       "attrs": {
        "height": 0.8,
        "width": 0.8,
        "x": 0.1,
        "y": 0.1
       },
       "content": {
        "cell": "e9ddf055-bd5b-4e0e-b4e6-4480399e7d5f",
        "part": "whole"
       },
       "id": "4334cb9a-a806-4bd8-b56d-2628a77a8902"
      }
     }
    },
    "8f89160e-1317-44e9-80ec-654f23471022": {
     "id": "8f89160e-1317-44e9-80ec-654f23471022",
     "prev": "e7100943-5879-4bc1-a561-ddba999fcab5",
     "regions": {
      "6f2dc950-bab9-4938-8d11-34706e793c46": {
       "attrs": {
        "height": 0.8,
        "width": 0.8,
        "x": 0.1,
        "y": 0.1
       },
       "content": {
        "cell": "e5c83715-0b1f-4e85-9542-827eae25138b",
        "part": "whole"
       },
       "id": "6f2dc950-bab9-4938-8d11-34706e793c46"
      }
     }
    },
    "910800c6-3640-42e1-b9c7-2d0094bcf2f5": {
     "id": "910800c6-3640-42e1-b9c7-2d0094bcf2f5",
     "prev": "81873625-4539-4e0e-af2f-b040beb99424",
     "regions": {
      "37c63f3a-8a55-4ebb-8b2f-60dbecf2ca7a": {
       "attrs": {
        "height": 0.8,
        "width": 0.8,
        "x": 0.1,
        "y": 0.1
       },
       "content": {
        "cell": "bf74a19f-a5f7-4a1a-8397-c0b8a86ad65d",
        "part": "whole"
       },
       "id": "37c63f3a-8a55-4ebb-8b2f-60dbecf2ca7a"
      }
     }
    },
    "9471f669-81fa-4169-a831-f9ef7ccdb949": {
     "id": "9471f669-81fa-4169-a831-f9ef7ccdb949",
     "prev": "be0a7107-9080-435f-9021-6125a478091a",
     "regions": {
      "9e75ae70-3ff7-451b-9a58-51d6735216ed": {
       "attrs": {
        "height": 0.8,
        "width": 0.8,
        "x": 0.1,
        "y": 0.1
       },
       "content": {
        "cell": "96580d71-1e14-412f-a632-812c9e32bc36",
        "part": "whole"
       },
       "id": "9e75ae70-3ff7-451b-9a58-51d6735216ed"
      }
     }
    },
    "94c0de30-cd36-40af-b54d-e6ffd315bfa6": {
     "id": "94c0de30-cd36-40af-b54d-e6ffd315bfa6",
     "prev": null,
     "regions": {
      "1108bb8f-ff38-4f7c-bcd4-1e893aa38766": {
       "attrs": {
        "height": 0.8,
        "width": 0.8,
        "x": 0.1,
        "y": 0.1
       },
       "content": {
        "cell": "30e817a1-361e-41d2-acb4-02be2c24c5df",
        "part": "whole"
       },
       "id": "1108bb8f-ff38-4f7c-bcd4-1e893aa38766"
      }
     }
    },
    "954760da-8a35-4755-8d73-b2daa1ef76a6": {
     "id": "954760da-8a35-4755-8d73-b2daa1ef76a6",
     "prev": "020835b9-bb0a-4484-898d-38c709c9e24f",
     "regions": {
      "a69a95cd-b0db-4b4a-8d4b-f4ad0a302e72": {
       "attrs": {
        "height": 0.8,
        "width": 0.8,
        "x": 0.1,
        "y": 0.1
       },
       "content": {
        "cell": "cf08efe6-8eee-4985-84a1-5b0da2ebed60",
        "part": "whole"
       },
       "id": "a69a95cd-b0db-4b4a-8d4b-f4ad0a302e72"
      }
     }
    },
    "9c971f94-f807-4531-bc4d-a57e8752a447": {
     "id": "9c971f94-f807-4531-bc4d-a57e8752a447",
     "prev": "cb58fc15-9552-4fa6-8e36-eac8c4331f52",
     "regions": {
      "a3292246-6ba4-403c-bf75-cd91b62cea5f": {
       "attrs": {
        "height": 0.8,
        "width": 0.8,
        "x": 0.1,
        "y": 0.1
       },
       "content": {
        "cell": "6fc84047-b286-42a3-966c-46cbcfc825fb",
        "part": "whole"
       },
       "id": "a3292246-6ba4-403c-bf75-cd91b62cea5f"
      }
     }
    },
    "a1be80b9-3ce7-4849-a69f-45b134162653": {
     "id": "a1be80b9-3ce7-4849-a69f-45b134162653",
     "prev": "ef73117f-19ed-4da1-99c0-e1c32f8a155c",
     "regions": {
      "f355c42e-8bdf-4a60-9937-64b7466aa1b8": {
       "attrs": {
        "height": 0.8,
        "width": 0.8,
        "x": 0.1,
        "y": 0.1
       },
       "content": {
        "cell": "7a00a9fb-add5-46ab-b3d6-668c93d3bda1",
        "part": "whole"
       },
       "id": "f355c42e-8bdf-4a60-9937-64b7466aa1b8"
      }
     }
    },
    "a7f26534-82be-4872-ad95-de199cb38dc9": {
     "id": "a7f26534-82be-4872-ad95-de199cb38dc9",
     "prev": "ef30c813-d24f-4576-b7cb-e93605506aa8",
     "regions": {
      "2d91f224-e530-442c-9a00-f4be20da08fe": {
       "attrs": {
        "height": 0.8,
        "width": 0.8,
        "x": 0.1,
        "y": 0.1
       },
       "content": {
        "cell": "12e29b33-e39f-4f8e-a5e2-7c98bf38c0ab",
        "part": "whole"
       },
       "id": "2d91f224-e530-442c-9a00-f4be20da08fe"
      }
     }
    },
    "a9a1e13f-45ea-4455-b529-796593cac049": {
     "id": "a9a1e13f-45ea-4455-b529-796593cac049",
     "prev": "8ad321f4-4840-4117-bd7d-1f35c57eb41e",
     "regions": {
      "9b3c9c01-c525-496c-b067-bdb4b2053401": {
       "attrs": {
        "height": 0.8,
        "width": 0.8,
        "x": 0.1,
        "y": 0.1
       },
       "content": {
        "cell": "9d11e3ea-0099-4af7-8a88-10fb07d288f4",
        "part": "whole"
       },
       "id": "9b3c9c01-c525-496c-b067-bdb4b2053401"
      }
     }
    },
    "aa294ee0-a246-405d-916f-fb16b4b2b399": {
     "id": "aa294ee0-a246-405d-916f-fb16b4b2b399",
     "prev": "ca70ec2c-7669-423e-b771-900b20c9b985",
     "regions": {
      "c8a7eaa1-a99a-4dcb-bd4c-c8f932b5fed8": {
       "attrs": {
        "height": 0.8,
        "width": 0.8,
        "x": 0.1,
        "y": 0.1
       },
       "content": {
        "cell": "196739e3-efcb-459a-bb34-2e08e8e167c6",
        "part": "whole"
       },
       "id": "c8a7eaa1-a99a-4dcb-bd4c-c8f932b5fed8"
      }
     }
    },
    "b0a27dff-69b0-4d75-8ad9-100b8348ee11": {
     "id": "b0a27dff-69b0-4d75-8ad9-100b8348ee11",
     "prev": "c0cdd2b7-f41c-4246-ade1-4e08d489b511",
     "regions": {
      "99bcad92-05ff-4a69-9177-065ab6f0fd8c": {
       "attrs": {
        "height": 0.8,
        "width": 0.8,
        "x": 0.1,
        "y": 0.1
       },
       "content": {
        "cell": "88cb868e-55cb-40b9-8c19-8813e800742f",
        "part": "whole"
       },
       "id": "99bcad92-05ff-4a69-9177-065ab6f0fd8c"
      }
     }
    },
    "b2b46547-d09e-4ecb-8561-f59c0d4790ef": {
     "id": "b2b46547-d09e-4ecb-8561-f59c0d4790ef",
     "prev": "cd427487-f6ae-449d-907f-bd253e40a0f7",
     "regions": {
      "7eb3a97c-e621-4847-8177-fd700f28b269": {
       "attrs": {
        "height": 0.8,
        "width": 0.8,
        "x": 0.1,
        "y": 0.1
       },
       "content": {
        "cell": "0a89f1ff-96a9-4cc8-a0b2-088a73e412ac",
        "part": "whole"
       },
       "id": "7eb3a97c-e621-4847-8177-fd700f28b269"
      }
     }
    },
    "b43aa3a4-6c32-4bf7-8070-72c45b69bc3e": {
     "id": "b43aa3a4-6c32-4bf7-8070-72c45b69bc3e",
     "prev": "ebc8e6f8-5203-4b6d-9e5c-2ec805c2f883",
     "regions": {
      "dcca8784-337a-42a6-ad29-bc2d122e057b": {
       "attrs": {
        "height": 0.8,
        "width": 0.8,
        "x": 0.1,
        "y": 0.1
       },
       "content": {
        "cell": "f85429b9-70cc-4c13-8acd-0de533ad17cf",
        "part": "whole"
       },
       "id": "dcca8784-337a-42a6-ad29-bc2d122e057b"
      }
     }
    },
    "b44c7a20-9602-4eba-8557-f3b336325ba6": {
     "id": "b44c7a20-9602-4eba-8557-f3b336325ba6",
     "prev": "d93ea011-8dbc-4209-8053-cc4853aedc9d",
     "regions": {
      "73c28abd-9698-4dc9-be44-e060825946ba": {
       "attrs": {
        "height": 0.8,
        "width": 0.8,
        "x": 0.1,
        "y": 0.1
       },
       "content": {
        "cell": "ecddd9a9-d50f-4a74-8214-7135632dbc9e",
        "part": "whole"
       },
       "id": "73c28abd-9698-4dc9-be44-e060825946ba"
      }
     }
    },
    "b4fbfb95-6bc9-4321-bf5c-eff86fe46af3": {
     "id": "b4fbfb95-6bc9-4321-bf5c-eff86fe46af3",
     "prev": "02ff20f4-a351-4be0-a3ec-8167d308615a",
     "regions": {
      "42534b8b-ba66-4c4c-a662-c9ebb1a5b61d": {
       "attrs": {
        "height": 0.8,
        "width": 0.8,
        "x": 0.1,
        "y": 0.1
       },
       "content": {
        "cell": "63df22a2-a59b-4155-a508-cdcc22438cc3",
        "part": "whole"
       },
       "id": "42534b8b-ba66-4c4c-a662-c9ebb1a5b61d"
      }
     }
    },
    "b81ac5e6-4839-4dde-a645-595a08133276": {
     "id": "b81ac5e6-4839-4dde-a645-595a08133276",
     "prev": "dd558a55-e93b-49b2-9e1a-d7b3e8c6749c",
     "regions": {
      "28deb567-1854-49a7-a737-37400cc52b42": {
       "attrs": {
        "height": 0.8,
        "width": 0.8,
        "x": 0.1,
        "y": 0.1
       },
       "content": {
        "cell": "37583780-b3ef-42dd-b81d-bde27389cf3b",
        "part": "whole"
       },
       "id": "28deb567-1854-49a7-a737-37400cc52b42"
      }
     }
    },
    "be0a7107-9080-435f-9021-6125a478091a": {
     "id": "be0a7107-9080-435f-9021-6125a478091a",
     "prev": "73077f2e-7f92-4172-8e1c-bc266cb1eaae",
     "regions": {
      "7f5ab377-59dd-4e4d-8103-85d67f34f43c": {
       "attrs": {
        "height": 0.8,
        "width": 0.8,
        "x": 0.1,
        "y": 0.1
       },
       "content": {
        "cell": "f5654b29-0307-44ed-a2c0-2fc259826337",
        "part": "whole"
       },
       "id": "7f5ab377-59dd-4e4d-8103-85d67f34f43c"
      }
     }
    },
    "c0cdd2b7-f41c-4246-ade1-4e08d489b511": {
     "id": "c0cdd2b7-f41c-4246-ade1-4e08d489b511",
     "prev": "d1f2bab4-e8f6-4427-ab4a-f51b063924b9",
     "regions": {
      "11a757b5-4929-4d1e-90ec-4f44a5523685": {
       "attrs": {
        "height": 0.8,
        "width": 0.8,
        "x": 0.1,
        "y": 0.1
       },
       "content": {
        "cell": "0b3137ea-1afc-41d1-a27f-e8290477a92f",
        "part": "whole"
       },
       "id": "11a757b5-4929-4d1e-90ec-4f44a5523685"
      }
     }
    },
    "c1f8f580-ff99-4616-8cfe-ea49487a010a": {
     "id": "c1f8f580-ff99-4616-8cfe-ea49487a010a",
     "prev": "a9a1e13f-45ea-4455-b529-796593cac049",
     "regions": {
      "824f8a52-aac4-4ee1-831b-be74d30db83a": {
       "attrs": {
        "height": 0.8,
        "width": 0.8,
        "x": 0.1,
        "y": 0.1
       },
       "content": {
        "cell": "21ed5507-e39c-4856-a6b0-930e2b322fdc",
        "part": "whole"
       },
       "id": "824f8a52-aac4-4ee1-831b-be74d30db83a"
      }
     }
    },
    "c4e3aea1-7048-49a9-83f6-393c1f2ac65e": {
     "id": "c4e3aea1-7048-49a9-83f6-393c1f2ac65e",
     "prev": "7a030aa8-095a-495e-9511-b64cd3179b25",
     "regions": {
      "ecac77c2-d245-4268-af95-7e81f2dd8b23": {
       "attrs": {
        "height": 0.8,
        "width": 0.8,
        "x": 0.1,
        "y": 0.1
       },
       "content": {
        "cell": "b32b0686-6209-42c3-b558-34d24c792b55",
        "part": "whole"
       },
       "id": "ecac77c2-d245-4268-af95-7e81f2dd8b23"
      }
     }
    },
    "c61ff58a-e598-4d3d-b8f6-0638f286bb13": {
     "id": "c61ff58a-e598-4d3d-b8f6-0638f286bb13",
     "prev": "693925af-c89f-4c97-ba54-f6e8c491e443",
     "regions": {
      "cf3f6729-0e49-4009-b925-d60fa7a41f8c": {
       "attrs": {
        "height": 0.8,
        "width": 0.8,
        "x": 0.1,
        "y": 0.1
       },
       "content": {
        "cell": "f69a06bb-62bb-48be-9529-0da63436cefe",
        "part": "whole"
       },
       "id": "cf3f6729-0e49-4009-b925-d60fa7a41f8c"
      }
     }
    },
    "c7c70a21-19cc-4fe0-9c9f-27351f1e987d": {
     "id": "c7c70a21-19cc-4fe0-9c9f-27351f1e987d",
     "prev": "4ab63dd7-1130-40d0-9431-88507476ec52",
     "regions": {
      "39e44d67-e54b-47c5-b140-37f4921f3b9b": {
       "attrs": {
        "height": 0.8,
        "width": 0.8,
        "x": 0.1,
        "y": 0.1
       },
       "content": {
        "cell": "ee9e6366-d8da-4850-a2c9-2d935eca0b33",
        "part": "whole"
       },
       "id": "39e44d67-e54b-47c5-b140-37f4921f3b9b"
      }
     }
    },
    "ca70ec2c-7669-423e-b771-900b20c9b985": {
     "id": "ca70ec2c-7669-423e-b771-900b20c9b985",
     "prev": "589335dc-b677-4828-8cb1-8a2d35e01628",
     "regions": {
      "be63f24d-605c-4ab2-919e-f6a1aa5be72a": {
       "attrs": {
        "height": 0.8,
        "width": 0.8,
        "x": 0.1,
        "y": 0.1
       },
       "content": {
        "cell": "ed40f78b-2fd1-49df-8853-f0a4de9116a7",
        "part": "whole"
       },
       "id": "be63f24d-605c-4ab2-919e-f6a1aa5be72a"
      }
     }
    },
    "cb58fc15-9552-4fa6-8e36-eac8c4331f52": {
     "id": "cb58fc15-9552-4fa6-8e36-eac8c4331f52",
     "prev": "d8045d84-215a-4dc8-aae0-06a1bb899e26",
     "regions": {
      "7b4bc0fb-4a3a-4410-b598-cfe36f547e4d": {
       "attrs": {
        "height": 0.8,
        "width": 0.8,
        "x": 0.1,
        "y": 0.1
       },
       "content": {
        "cell": "d9baa268-170d-4978-9a94-bb9059b06d39",
        "part": "whole"
       },
       "id": "7b4bc0fb-4a3a-4410-b598-cfe36f547e4d"
      }
     }
    },
    "cca02261-99e8-4757-a320-8ccea85f48e1": {
     "id": "cca02261-99e8-4757-a320-8ccea85f48e1",
     "prev": "fa5da4ee-a927-4880-94d2-1601c8e52dd4",
     "regions": {
      "c18f7e45-f785-4afb-920c-3add85e79b39": {
       "attrs": {
        "height": 0.8,
        "width": 0.8,
        "x": 0.1,
        "y": 0.1
       },
       "content": {
        "cell": "09d54463-7dd4-4796-a844-91563a9eb13d",
        "part": "whole"
       },
       "id": "c18f7e45-f785-4afb-920c-3add85e79b39"
      }
     }
    },
    "cd427487-f6ae-449d-907f-bd253e40a0f7": {
     "id": "cd427487-f6ae-449d-907f-bd253e40a0f7",
     "prev": "8f89160e-1317-44e9-80ec-654f23471022",
     "regions": {
      "1d7e83b3-1efc-4763-a115-6be0f33d13e2": {
       "attrs": {
        "height": 0.8,
        "width": 0.8,
        "x": 0.1,
        "y": 0.1
       },
       "content": {
        "cell": "50d2636d-b15f-472f-90f5-ec646785c7f6",
        "part": "whole"
       },
       "id": "1d7e83b3-1efc-4763-a115-6be0f33d13e2"
      }
     }
    },
    "ce3aebc7-2b02-41a9-8f0e-2f04e8684322": {
     "id": "ce3aebc7-2b02-41a9-8f0e-2f04e8684322",
     "prev": "00472011-fc3b-404f-a459-855dd1a36fa8",
     "regions": {
      "3493bcf1-0c52-423e-b98b-48a7c4a8cbde": {
       "attrs": {
        "height": 0.8,
        "width": 0.8,
        "x": 0.1,
        "y": 0.1
       },
       "content": {
        "cell": "8271149b-6a47-4995-80ef-b481767f9c00",
        "part": "whole"
       },
       "id": "3493bcf1-0c52-423e-b98b-48a7c4a8cbde"
      }
     }
    },
    "cfa905c3-9457-4add-bcb6-e16498dab082": {
     "id": "cfa905c3-9457-4add-bcb6-e16498dab082",
     "prev": "b43aa3a4-6c32-4bf7-8070-72c45b69bc3e",
     "regions": {
      "cc154214-4a07-4b61-9378-837db7cfead4": {
       "attrs": {
        "height": 0.8,
        "width": 0.8,
        "x": 0.1,
        "y": 0.1
       },
       "content": {
        "cell": "3d919f30-e25f-42c7-af64-5523aabbec0f",
        "part": "whole"
       },
       "id": "cc154214-4a07-4b61-9378-837db7cfead4"
      }
     }
    },
    "d1f2bab4-e8f6-4427-ab4a-f51b063924b9": {
     "id": "d1f2bab4-e8f6-4427-ab4a-f51b063924b9",
     "prev": "20ec031b-bd7e-4985-b6a5-2841fbb6f105",
     "regions": {
      "820e25d1-c36a-4d5b-b197-b6ae3fee6ba5": {
       "attrs": {
        "height": 0.8,
        "width": 0.8,
        "x": 0.1,
        "y": 0.1
       },
       "content": {
        "cell": "4f51d628-cef4-40bc-a68d-294b1a5605d9",
        "part": "whole"
       },
       "id": "820e25d1-c36a-4d5b-b197-b6ae3fee6ba5"
      }
     }
    },
    "d2b8fb53-9d55-4064-a374-b39d63b31729": {
     "id": "d2b8fb53-9d55-4064-a374-b39d63b31729",
     "prev": "e3baa59a-7d07-4004-8472-22fa84ef6549",
     "regions": {
      "3b44ca2a-bd11-4ba5-bcc2-00bcedd0c9fb": {
       "attrs": {
        "height": 0.8,
        "width": 0.8,
        "x": 0.1,
        "y": 0.1
       },
       "content": {
        "cell": "cdb6aab9-5a91-4cd5-99ac-e8fb64f95fae",
        "part": "whole"
       },
       "id": "3b44ca2a-bd11-4ba5-bcc2-00bcedd0c9fb"
      }
     }
    },
    "d3ec7389-6e44-4e88-8b96-ac248119ff71": {
     "id": "d3ec7389-6e44-4e88-8b96-ac248119ff71",
     "prev": "6a949751-7fa0-4c9c-94ec-d0f946b24077",
     "regions": {
      "881565d5-380f-478c-9fdc-aca3d4676a5c": {
       "attrs": {
        "height": 0.8,
        "width": 0.8,
        "x": 0.1,
        "y": 0.1
       },
       "content": {
        "cell": "fe4f1e0b-d165-4522-8674-1f6a8ca9aa49",
        "part": "whole"
       },
       "id": "881565d5-380f-478c-9fdc-aca3d4676a5c"
      }
     }
    },
    "d8045d84-215a-4dc8-aae0-06a1bb899e26": {
     "id": "d8045d84-215a-4dc8-aae0-06a1bb899e26",
     "prev": "0a0f7687-047e-43e2-844f-c5b460fb90ac",
     "regions": {
      "aecc1ab4-35c5-4470-a5cb-970d74998eef": {
       "attrs": {
        "height": 0.8,
        "width": 0.8,
        "x": 0.1,
        "y": 0.1
       },
       "content": {
        "cell": "2311ede6-dc63-4baa-a322-812082a7a9b8",
        "part": "whole"
       },
       "id": "aecc1ab4-35c5-4470-a5cb-970d74998eef"
      }
     }
    },
    "d93ea011-8dbc-4209-8053-cc4853aedc9d": {
     "id": "d93ea011-8dbc-4209-8053-cc4853aedc9d",
     "prev": "e9408361-2dc5-4c74-a0c7-988026ec9e06",
     "regions": {
      "ff8d1471-6061-4c1a-91a5-9d4fc5b43717": {
       "attrs": {
        "height": 0.8,
        "width": 0.8,
        "x": 0.1,
        "y": 0.1
       },
       "content": {
        "cell": "054fad22-bf64-4349-96cc-322b50871c88",
        "part": "whole"
       },
       "id": "ff8d1471-6061-4c1a-91a5-9d4fc5b43717"
      }
     }
    },
    "db475afb-60c9-4473-9151-3bc946034d7d": {
     "id": "db475afb-60c9-4473-9151-3bc946034d7d",
     "prev": "3b197c16-0f4f-485b-b36f-8fcc44e3c303",
     "regions": {
      "92f96c34-8b59-4a3d-9e51-4db4aa4f2a14": {
       "attrs": {
        "height": 0.8,
        "width": 0.8,
        "x": 0.1,
        "y": 0.1
       },
       "content": {
        "cell": "56276648-b6fe-499f-8c2e-6f2ce2757cdd",
        "part": "whole"
       },
       "id": "92f96c34-8b59-4a3d-9e51-4db4aa4f2a14"
      }
     }
    },
    "dbf71bf9-1ebd-4d8f-b5e3-e1cd910caba0": {
     "id": "dbf71bf9-1ebd-4d8f-b5e3-e1cd910caba0",
     "prev": "e4bc2071-d61a-4adc-8613-71e1277702cb",
     "regions": {
      "1a06d1e8-afd0-4b8d-844e-3c25a0960e9d": {
       "attrs": {
        "height": 0.8,
        "width": 0.8,
        "x": 0.1,
        "y": 0.1
       },
       "content": {
        "cell": "e579b373-db44-4e7b-9f71-ee8b5b635cf1",
        "part": "whole"
       },
       "id": "1a06d1e8-afd0-4b8d-844e-3c25a0960e9d"
      }
     }
    },
    "dd558a55-e93b-49b2-9e1a-d7b3e8c6749c": {
     "id": "dd558a55-e93b-49b2-9e1a-d7b3e8c6749c",
     "prev": "821a27f5-3248-4688-9ac0-bdbfe1399f68",
     "regions": {
      "23a57877-b5b1-4cc0-9fc8-ca5fb7f61fb6": {
       "attrs": {
        "height": 0.8,
        "width": 0.8,
        "x": 0.1,
        "y": 0.1
       },
       "content": {
        "cell": "a4f0b57b-55fd-4a6b-9282-25f7898876a9",
        "part": "whole"
       },
       "id": "23a57877-b5b1-4cc0-9fc8-ca5fb7f61fb6"
      }
     }
    },
    "e1227926-8b9e-448b-bda5-f1a85f3fefdf": {
     "id": "e1227926-8b9e-448b-bda5-f1a85f3fefdf",
     "prev": "39f50c40-569a-4999-943e-53b491a789d6",
     "regions": {
      "57dc0949-1aa2-4d9e-82b0-f175191481c4": {
       "attrs": {
        "height": 0.8,
        "width": 0.8,
        "x": 0.1,
        "y": 0.1
       },
       "content": {
        "cell": "017c0297-83c2-4933-ab3f-6e405c978483",
        "part": "whole"
       },
       "id": "57dc0949-1aa2-4d9e-82b0-f175191481c4"
      }
     }
    },
    "e3baa59a-7d07-4004-8472-22fa84ef6549": {
     "id": "e3baa59a-7d07-4004-8472-22fa84ef6549",
     "prev": "ffebd97b-de38-4ebd-8346-ac5d277705c4",
     "regions": {
      "6476e16d-9ba2-4306-861b-87d17ff58bd9": {
       "attrs": {
        "height": 0.8,
        "width": 0.8,
        "x": 0.1,
        "y": 0.1
       },
       "content": {
        "cell": "f3a34e31-7b7f-480b-a79c-8ad5a67fffd8",
        "part": "whole"
       },
       "id": "6476e16d-9ba2-4306-861b-87d17ff58bd9"
      }
     }
    },
    "e4bc2071-d61a-4adc-8613-71e1277702cb": {
     "id": "e4bc2071-d61a-4adc-8613-71e1277702cb",
     "prev": "8dfe7e40-6180-4386-abff-385d355f8016",
     "regions": {
      "b2b157b0-c4dc-4414-b779-4e473944b921": {
       "attrs": {
        "height": 0.8,
        "width": 0.8,
        "x": 0.1,
        "y": 0.1
       },
       "content": {
        "cell": "530d24a7-d896-4141-be76-85e179881231",
        "part": "whole"
       },
       "id": "b2b157b0-c4dc-4414-b779-4e473944b921"
      }
     }
    },
    "e7100943-5879-4bc1-a561-ddba999fcab5": {
     "id": "e7100943-5879-4bc1-a561-ddba999fcab5",
     "prev": "94c0de30-cd36-40af-b54d-e6ffd315bfa6",
     "regions": {
      "699aeffd-1618-4528-8743-56db9b7273f3": {
       "attrs": {
        "height": 0.8,
        "width": 0.8,
        "x": 0.1,
        "y": 0.1
       },
       "content": {
        "cell": "b3d4bf54-56a3-4bf4-8ab4-7b5842508955",
        "part": "whole"
       },
       "id": "699aeffd-1618-4528-8743-56db9b7273f3"
      }
     }
    },
    "e80f32e2-2106-4af7-8b42-67d1e2f46e59": {
     "id": "e80f32e2-2106-4af7-8b42-67d1e2f46e59",
     "prev": "b44c7a20-9602-4eba-8557-f3b336325ba6",
     "regions": {
      "2e86dbd6-1f86-4f94-a473-06ec7a2d8bc0": {
       "attrs": {
        "height": 0.8,
        "width": 0.8,
        "x": 0.1,
        "y": 0.1
       },
       "content": {
        "cell": "ae91f77c-c880-4124-851c-4f429771e81b",
        "part": "whole"
       },
       "id": "2e86dbd6-1f86-4f94-a473-06ec7a2d8bc0"
      }
     }
    },
    "e9408361-2dc5-4c74-a0c7-988026ec9e06": {
     "id": "e9408361-2dc5-4c74-a0c7-988026ec9e06",
     "prev": "dbf71bf9-1ebd-4d8f-b5e3-e1cd910caba0",
     "regions": {
      "089e17e7-e849-4b0e-b52a-de9fdf97879b": {
       "attrs": {
        "height": 0.8,
        "width": 0.8,
        "x": 0.1,
        "y": 0.1
       },
       "content": {
        "cell": "09feb56d-30d5-47d4-ad97-d47073a034da",
        "part": "whole"
       },
       "id": "089e17e7-e849-4b0e-b52a-de9fdf97879b"
      }
     }
    },
    "ebc8e6f8-5203-4b6d-9e5c-2ec805c2f883": {
     "id": "ebc8e6f8-5203-4b6d-9e5c-2ec805c2f883",
     "prev": "735d893a-482b-48b2-8e78-bbc740feb72e",
     "regions": {
      "e4646931-bd10-4046-8766-21e51ae3463d": {
       "attrs": {
        "height": 0.8,
        "width": 0.8,
        "x": 0.1,
        "y": 0.1
       },
       "content": {
        "cell": "efe2cb83-935d-4eff-a6dc-d705883885e1",
        "part": "whole"
       },
       "id": "e4646931-bd10-4046-8766-21e51ae3463d"
      }
     }
    },
    "ef30c813-d24f-4576-b7cb-e93605506aa8": {
     "id": "ef30c813-d24f-4576-b7cb-e93605506aa8",
     "prev": "53979177-de18-4f7b-a775-28e79eef93f3",
     "regions": {
      "bca9f498-f196-4231-957d-db6fba2891d3": {
       "attrs": {
        "height": 0.8,
        "width": 0.8,
        "x": 0.1,
        "y": 0.1
       },
       "content": {
        "cell": "92430d15-8aad-4312-8ef1-bc2c1a86e8c5",
        "part": "whole"
       },
       "id": "bca9f498-f196-4231-957d-db6fba2891d3"
      }
     }
    },
    "ef73117f-19ed-4da1-99c0-e1c32f8a155c": {
     "id": "ef73117f-19ed-4da1-99c0-e1c32f8a155c",
     "prev": "fd8757ed-a564-403e-99df-27dedbafdbcc",
     "regions": {
      "ef11ae6b-def2-4ec5-b6f8-0489f763a12e": {
       "attrs": {
        "height": 0.8,
        "width": 0.8,
        "x": 0.1,
        "y": 0.1
       },
       "content": {
        "cell": "245402fb-3079-4ea7-b6c6-262eb359415d",
        "part": "whole"
       },
       "id": "ef11ae6b-def2-4ec5-b6f8-0489f763a12e"
      }
     }
    },
    "f164903d-3cab-4b6b-912d-23852b3c8cec": {
     "id": "f164903d-3cab-4b6b-912d-23852b3c8cec",
     "prev": "b4fbfb95-6bc9-4321-bf5c-eff86fe46af3",
     "regions": {
      "d780d54e-5e88-4977-aaac-e687be6ad5bc": {
       "attrs": {
        "height": 0.8,
        "width": 0.8,
        "x": 0.1,
        "y": 0.1
       },
       "content": {
        "cell": "0103fb75-efe9-4a30-83c0-bcea3006d251",
        "part": "whole"
       },
       "id": "d780d54e-5e88-4977-aaac-e687be6ad5bc"
      }
     }
    },
    "f3b596e0-10d2-4376-85a9-85a16aaf8f57": {
     "id": "f3b596e0-10d2-4376-85a9-85a16aaf8f57",
     "prev": "ffa3c029-e451-445a-837b-0af9468c7a6a",
     "regions": {
      "0cae0a16-6ead-40da-b884-9767868fcfa3": {
       "attrs": {
        "height": 0.8,
        "width": 0.8,
        "x": 0.1,
        "y": 0.1
       },
       "content": {
        "cell": "621dce57-de04-41de-99c3-f27bbe452368",
        "part": "whole"
       },
       "id": "0cae0a16-6ead-40da-b884-9767868fcfa3"
      }
     }
    },
    "f727cfae-af3f-49ad-8029-bbbeb802d521": {
     "id": "f727cfae-af3f-49ad-8029-bbbeb802d521",
     "prev": "b2b46547-d09e-4ecb-8561-f59c0d4790ef",
     "regions": {
      "16129ee3-82c0-416c-8513-9fb429ce0585": {
       "attrs": {
        "height": 0.8,
        "width": 0.8,
        "x": 0.1,
        "y": 0.1
       },
       "content": {
        "cell": "34ab0cef-eb72-4fbf-9951-b2e3b075f802",
        "part": "whole"
       },
       "id": "16129ee3-82c0-416c-8513-9fb429ce0585"
      }
     }
    },
    "fa5da4ee-a927-4880-94d2-1601c8e52dd4": {
     "id": "fa5da4ee-a927-4880-94d2-1601c8e52dd4",
     "prev": "38240981-1992-4fa1-80e9-c4b7d3e4e4ae",
     "regions": {
      "9afa3fa1-bf20-402c-b558-2c43514e432f": {
       "attrs": {
        "height": 0.8,
        "width": 0.8,
        "x": 0.1,
        "y": 0.1
       },
       "content": {
        "cell": "9757aca7-a9e4-4c01-96cc-b924a2237ad7",
        "part": "whole"
       },
       "id": "9afa3fa1-bf20-402c-b558-2c43514e432f"
      }
     }
    },
    "fd8757ed-a564-403e-99df-27dedbafdbcc": {
     "id": "fd8757ed-a564-403e-99df-27dedbafdbcc",
     "prev": "9c971f94-f807-4531-bc4d-a57e8752a447",
     "regions": {
      "fa4eb9f6-fe9a-483f-8cb3-974a6e2bb79e": {
       "attrs": {
        "height": 0.8,
        "width": 0.8,
        "x": 0.1,
        "y": 0.1
       },
       "content": {
        "cell": "69b8d51d-6d48-445f-b2d8-b6ea469b7a3f",
        "part": "whole"
       },
       "id": "fa4eb9f6-fe9a-483f-8cb3-974a6e2bb79e"
      }
     }
    },
    "ffa3c029-e451-445a-837b-0af9468c7a6a": {
     "id": "ffa3c029-e451-445a-837b-0af9468c7a6a",
     "prev": "153a9138-bb5d-48a1-b341-df83b1e9f63b",
     "regions": {
      "496a1442-a172-4c26-9d8a-cf1e5c4ed2b5": {
       "attrs": {
        "height": 0.8,
        "width": 0.8,
        "x": 0.1,
        "y": 0.1
       },
       "content": {
        "cell": "4d0fc3e0-8ad4-4e28-9886-a839469f995b",
        "part": "whole"
       },
       "id": "496a1442-a172-4c26-9d8a-cf1e5c4ed2b5"
      }
     }
    },
    "ffebd97b-de38-4ebd-8346-ac5d277705c4": {
     "id": "ffebd97b-de38-4ebd-8346-ac5d277705c4",
     "prev": "6c2558ac-314d-4bdf-aac7-bfb5189ca75c",
     "regions": {
      "1e03179b-dd45-46da-9bce-33497efb3e71": {
       "attrs": {
        "height": 0.8,
        "width": 0.8,
        "x": 0.1,
        "y": 0.1
       },
       "content": {
        "cell": "88f33d7f-28a2-41c6-8602-8554b7eac69f",
        "part": "whole"
       },
       "id": "1e03179b-dd45-46da-9bce-33497efb3e71"
      }
     }
    }
   },
   "themes": {}
  }
 },
 "nbformat": 4,
 "nbformat_minor": 1
}
